{
 "cells": [
  {
   "cell_type": "markdown",
   "metadata": {},
   "source": [
    "# Описание \n",
    "\n",
    "Аналитика для крупного интернет-магазина. Вместе с отделом маркетинга были подготовлен список гипотез для увеличения выручки.\n",
    "Сначала приоритизирую гипотезы по двум фреймворкам (ICE и RICE), а затем проанализирую результаты  A/B-теста (разницу среднего количества заказов на посетителя и средних чеков заказов). \n",
    "\n",
    "Данные для первой части\n",
    "- Hypothesis — краткое описание гипотезы;\n",
    "- Reach — охват пользователей по 10-балльной шкале;\n",
    "- Impact — влияние на пользователей по 10-балльной шкале;\n",
    "- Confidence — уверенность в гипотезе по 10-балльной шкале;\n",
    "- Efforts — затраты ресурсов на проверку гипотезы по 10-балльной шкале. Чем больше значение Efforts, тем дороже проверка гипотезы.\n",
    "\n",
    "Данные для второй части\n",
    "Файл orders\n",
    "- transactionId — идентификатор заказа;\n",
    "- visitorId — идентификатор пользователя, совершившего заказ;\n",
    "- date — дата, когда был совершён заказ;\n",
    "- revenue — выручка заказа;\n",
    "- group — группа A/B-теста, в которую попал заказ.\n",
    "\n",
    "Файл visitors.csv\n",
    "- date — дата;\n",
    "- group — группа A/B-теста;\n",
    "- visitors — количество пользователей в указанную дату в указанной группе A/B-теста\n",
    "\n",
    "## ОГЛАВЛЕНИЕ\n",
    "1. Часть 1. Приоритизация гипотез.\n",
    "\n",
    "    1.1. Применение фреймворка ICE для приоритизации гипотез\n",
    "    \n",
    "    1.2 Применение фреймворка RICE для приоритизации гипотез\n",
    "    \n",
    "    1.3 Вывод\n",
    "\n",
    "2. Часть 2. Анализ A/B-теста\n",
    "    \n",
    "    2.1 Проверка корректности сбора данных и проведения А/В теста\n",
    "    \n",
    "    2.2 Анализ ключевых показателей\n",
    "\n",
    "        2.2.1 Кумулятивная выручка по группам\n",
    "        2.2.2 Кумулятивный средний чек по группам\n",
    "        2.2.3 Относительное изменение кумулятивного среднего чека группы B к группе A\n",
    "        2.2.4 Относительное изменение кумулятивного среднего количества заказов на посетителя группы B к группе A\n",
    "        2.2.5 Среднее количество заказов по пользователям\n",
    "        2.2.6 Перцентили количества заказов на пользователя. Выбор границы для определения аномальных пользователей.\n",
    "        2.2.7 Средняя стоимость заказов\n",
    "        2.2.8 Перцентили стоимости заказов. Выбор границы для определения аномальных заказов.\n",
    "\n",
    "\n",
    "    2.3 ПРОВЕРКА СТАТИСТИЧЕСКИХ ГИПОТЕЗ\n",
    "\n",
    "        2.3.1 Статистическая значимость различий в среднем количестве заказов на посетителя между группами по «сырым» данным\n",
    "        2.3.2 Статистическая значимость различий в среднем чеке заказа между группами по «сырым» данным\n",
    "        2.3.3 Статистическая значимость различий в среднем количестве заказов на посетителя между группами по «очищенным» данным\n",
    "        2.3.4 Статистическую значимость различий в среднем чеке заказа между группами по «очищенным» данным\n",
    "\n",
    "    2.4 ВЫВОД\n",
    "\n",
    "\n",
    "Для начала установим необходимые библиотеки и скачаем данные для первой части работы\n"
   ]
  },
  {
   "cell_type": "code",
   "execution_count": 1,
   "metadata": {},
   "outputs": [],
   "source": [
    "import pandas as pd\n",
    "import datetime as dt\n",
    "import matplotlib.pyplot as plt \n",
    "import numpy as np\n",
    "from scipy import stats as st"
   ]
  },
  {
   "cell_type": "code",
   "execution_count": 2,
   "metadata": {},
   "outputs": [],
   "source": [
    "hypothesis = pd.read_csv('/datasets/hypothesis.csv')"
   ]
  },
  {
   "cell_type": "code",
   "execution_count": 3,
   "metadata": {
    "scrolled": false
   },
   "outputs": [
    {
     "name": "stdout",
     "output_type": "stream",
     "text": [
      "                                          Hypothesis  Reach  Impact  \\\n",
      "0  Добавить два новых канала привлечения трафика,...      3      10   \n",
      "1  Запустить собственную службу доставки, что сок...      2       5   \n",
      "2  Добавить блоки рекомендаций товаров на сайт ин...      8       3   \n",
      "3  Изменить структура категорий, что увеличит кон...      8       3   \n",
      "4  Изменить цвет фона главной страницы, чтобы уве...      3       1   \n",
      "\n",
      "   Confidence  Efforts  \n",
      "0           8        6  \n",
      "1           4       10  \n",
      "2           7        3  \n",
      "3           3        8  \n",
      "4           1        1  \n",
      "<class 'pandas.core.frame.DataFrame'>\n",
      "RangeIndex: 9 entries, 0 to 8\n",
      "Data columns (total 5 columns):\n",
      " #   Column      Non-Null Count  Dtype \n",
      "---  ------      --------------  ----- \n",
      " 0   Hypothesis  9 non-null      object\n",
      " 1   Reach       9 non-null      int64 \n",
      " 2   Impact      9 non-null      int64 \n",
      " 3   Confidence  9 non-null      int64 \n",
      " 4   Efforts     9 non-null      int64 \n",
      "dtypes: int64(4), object(1)\n",
      "memory usage: 488.0+ bytes\n",
      "           Reach     Impact  Confidence    Efforts\n",
      "count   9.000000   9.000000    9.000000   9.000000\n",
      "mean    4.777778   4.777778    5.555556   4.888889\n",
      "std     3.153481   3.192874    3.045944   2.803767\n",
      "min     1.000000   1.000000    1.000000   1.000000\n",
      "25%     3.000000   3.000000    3.000000   3.000000\n",
      "50%     3.000000   3.000000    7.000000   5.000000\n",
      "75%     8.000000   7.000000    8.000000   6.000000\n",
      "max    10.000000  10.000000    9.000000  10.000000\n"
     ]
    },
    {
     "data": {
      "text/plain": [
       "0"
      ]
     },
     "execution_count": 3,
     "metadata": {},
     "output_type": "execute_result"
    }
   ],
   "source": [
    "print(hypothesis.head(5))\n",
    "hypothesis.info()\n",
    "print(hypothesis.describe())\n",
    "hypothesis.duplicated().sum()"
   ]
  },
  {
   "cell_type": "markdown",
   "metadata": {},
   "source": [
    "Видим, что всего 9 гипотез. Шкала для оценки была выбрана 10-бальная. Типы столбцов соответствующие, менять не нужно. Стоит лишь переименовать столбцы, избавившись от верхнего регистра"
   ]
  },
  {
   "cell_type": "code",
   "execution_count": 4,
   "metadata": {},
   "outputs": [],
   "source": [
    "hypothesis.columns = ['hypothesis','reach','impact','confidence', 'efforts']"
   ]
  },
  {
   "cell_type": "markdown",
   "metadata": {},
   "source": [
    "## Часть 1. Приоритизация гипотез."
   ]
  },
  {
   "cell_type": "markdown",
   "metadata": {},
   "source": [
    "### Применение фреймворка ICE для приоритизации гипотез"
   ]
  },
  {
   "cell_type": "markdown",
   "metadata": {},
   "source": [
    "ICE = Impact * confidence / effort "
   ]
  },
  {
   "cell_type": "code",
   "execution_count": 5,
   "metadata": {
    "scrolled": false
   },
   "outputs": [
    {
     "data": {
      "text/html": [
       "<div>\n",
       "<style scoped>\n",
       "    .dataframe tbody tr th:only-of-type {\n",
       "        vertical-align: middle;\n",
       "    }\n",
       "\n",
       "    .dataframe tbody tr th {\n",
       "        vertical-align: top;\n",
       "    }\n",
       "\n",
       "    .dataframe thead th {\n",
       "        text-align: right;\n",
       "    }\n",
       "</style>\n",
       "<table border=\"1\" class=\"dataframe\">\n",
       "  <thead>\n",
       "    <tr style=\"text-align: right;\">\n",
       "      <th></th>\n",
       "      <th>hypothesis</th>\n",
       "      <th>reach</th>\n",
       "      <th>impact</th>\n",
       "      <th>confidence</th>\n",
       "      <th>efforts</th>\n",
       "      <th>ice</th>\n",
       "    </tr>\n",
       "  </thead>\n",
       "  <tbody>\n",
       "    <tr>\n",
       "      <th>8</th>\n",
       "      <td>Запустить акцию, дающую скидку на товар в день рождения</td>\n",
       "      <td>1</td>\n",
       "      <td>9</td>\n",
       "      <td>9</td>\n",
       "      <td>5</td>\n",
       "      <td>16.20</td>\n",
       "    </tr>\n",
       "    <tr>\n",
       "      <th>0</th>\n",
       "      <td>Добавить два новых канала привлечения трафика, что позволит привлекать на 30% больше пользователей</td>\n",
       "      <td>3</td>\n",
       "      <td>10</td>\n",
       "      <td>8</td>\n",
       "      <td>6</td>\n",
       "      <td>13.33</td>\n",
       "    </tr>\n",
       "    <tr>\n",
       "      <th>7</th>\n",
       "      <td>Добавить форму подписки на все основные страницы, чтобы собрать базу клиентов для email-рассылок</td>\n",
       "      <td>10</td>\n",
       "      <td>7</td>\n",
       "      <td>8</td>\n",
       "      <td>5</td>\n",
       "      <td>11.20</td>\n",
       "    </tr>\n",
       "    <tr>\n",
       "      <th>6</th>\n",
       "      <td>Показать на главной странице баннеры с актуальными акциями и распродажами, чтобы увеличить конверсию</td>\n",
       "      <td>5</td>\n",
       "      <td>3</td>\n",
       "      <td>8</td>\n",
       "      <td>3</td>\n",
       "      <td>8.00</td>\n",
       "    </tr>\n",
       "    <tr>\n",
       "      <th>2</th>\n",
       "      <td>Добавить блоки рекомендаций товаров на сайт интернет магазина, чтобы повысить конверсию и средний чек заказа</td>\n",
       "      <td>8</td>\n",
       "      <td>3</td>\n",
       "      <td>7</td>\n",
       "      <td>3</td>\n",
       "      <td>7.00</td>\n",
       "    </tr>\n",
       "    <tr>\n",
       "      <th>1</th>\n",
       "      <td>Запустить собственную службу доставки, что сократит срок доставки заказов</td>\n",
       "      <td>2</td>\n",
       "      <td>5</td>\n",
       "      <td>4</td>\n",
       "      <td>10</td>\n",
       "      <td>2.00</td>\n",
       "    </tr>\n",
       "    <tr>\n",
       "      <th>5</th>\n",
       "      <td>Добавить страницу отзывов клиентов о магазине, что позволит увеличить количество заказов</td>\n",
       "      <td>3</td>\n",
       "      <td>2</td>\n",
       "      <td>2</td>\n",
       "      <td>3</td>\n",
       "      <td>1.33</td>\n",
       "    </tr>\n",
       "    <tr>\n",
       "      <th>3</th>\n",
       "      <td>Изменить структура категорий, что увеличит конверсию, т.к. пользователи быстрее найдут нужный товар</td>\n",
       "      <td>8</td>\n",
       "      <td>3</td>\n",
       "      <td>3</td>\n",
       "      <td>8</td>\n",
       "      <td>1.12</td>\n",
       "    </tr>\n",
       "    <tr>\n",
       "      <th>4</th>\n",
       "      <td>Изменить цвет фона главной страницы, чтобы увеличить вовлеченность пользователей</td>\n",
       "      <td>3</td>\n",
       "      <td>1</td>\n",
       "      <td>1</td>\n",
       "      <td>1</td>\n",
       "      <td>1.00</td>\n",
       "    </tr>\n",
       "  </tbody>\n",
       "</table>\n",
       "</div>"
      ],
      "text/plain": [
       "                                                                                                     hypothesis  \\\n",
       "8                                                       Запустить акцию, дающую скидку на товар в день рождения   \n",
       "0            Добавить два новых канала привлечения трафика, что позволит привлекать на 30% больше пользователей   \n",
       "7              Добавить форму подписки на все основные страницы, чтобы собрать базу клиентов для email-рассылок   \n",
       "6          Показать на главной странице баннеры с актуальными акциями и распродажами, чтобы увеличить конверсию   \n",
       "2  Добавить блоки рекомендаций товаров на сайт интернет магазина, чтобы повысить конверсию и средний чек заказа   \n",
       "1                                     Запустить собственную службу доставки, что сократит срок доставки заказов   \n",
       "5                      Добавить страницу отзывов клиентов о магазине, что позволит увеличить количество заказов   \n",
       "3           Изменить структура категорий, что увеличит конверсию, т.к. пользователи быстрее найдут нужный товар   \n",
       "4                              Изменить цвет фона главной страницы, чтобы увеличить вовлеченность пользователей   \n",
       "\n",
       "   reach  impact  confidence  efforts    ice  \n",
       "8      1       9           9        5  16.20  \n",
       "0      3      10           8        6  13.33  \n",
       "7     10       7           8        5  11.20  \n",
       "6      5       3           8        3   8.00  \n",
       "2      8       3           7        3   7.00  \n",
       "1      2       5           4       10   2.00  \n",
       "5      3       2           2        3   1.33  \n",
       "3      8       3           3        8   1.12  \n",
       "4      3       1           1        1   1.00  "
      ]
     },
     "execution_count": 5,
     "metadata": {},
     "output_type": "execute_result"
    }
   ],
   "source": [
    "hypothesis['ice'] = round(hypothesis['impact'] * hypothesis['confidence'] / hypothesis['efforts'], 2)\n",
    "pd.set_option('max_colwidth', 200)\n",
    "hypothesis.sort_values(by = 'ice', ascending = False)\n"
   ]
  },
  {
   "cell_type": "markdown",
   "metadata": {},
   "source": [
    "Видим, что по фреймворку ICE наиболее приоритетной является 8-ая гипотеза. Далее по приоритету 0-ая и 7-ая гипотезы. \n",
    "\n"
   ]
  },
  {
   "cell_type": "markdown",
   "metadata": {},
   "source": [
    "### Применение фреймворка RICE для приоритизации гипотез"
   ]
  },
  {
   "cell_type": "markdown",
   "metadata": {},
   "source": [
    "RICE = Reach * Impact * confidence / effort"
   ]
  },
  {
   "cell_type": "code",
   "execution_count": 6,
   "metadata": {},
   "outputs": [
    {
     "data": {
      "text/html": [
       "<div>\n",
       "<style scoped>\n",
       "    .dataframe tbody tr th:only-of-type {\n",
       "        vertical-align: middle;\n",
       "    }\n",
       "\n",
       "    .dataframe tbody tr th {\n",
       "        vertical-align: top;\n",
       "    }\n",
       "\n",
       "    .dataframe thead th {\n",
       "        text-align: right;\n",
       "    }\n",
       "</style>\n",
       "<table border=\"1\" class=\"dataframe\">\n",
       "  <thead>\n",
       "    <tr style=\"text-align: right;\">\n",
       "      <th></th>\n",
       "      <th>hypothesis</th>\n",
       "      <th>reach</th>\n",
       "      <th>impact</th>\n",
       "      <th>confidence</th>\n",
       "      <th>efforts</th>\n",
       "      <th>ice</th>\n",
       "      <th>rice</th>\n",
       "    </tr>\n",
       "  </thead>\n",
       "  <tbody>\n",
       "    <tr>\n",
       "      <th>7</th>\n",
       "      <td>Добавить форму подписки на все основные страницы, чтобы собрать базу клиентов для email-рассылок</td>\n",
       "      <td>10</td>\n",
       "      <td>7</td>\n",
       "      <td>8</td>\n",
       "      <td>5</td>\n",
       "      <td>11.20</td>\n",
       "      <td>112.0</td>\n",
       "    </tr>\n",
       "    <tr>\n",
       "      <th>2</th>\n",
       "      <td>Добавить блоки рекомендаций товаров на сайт интернет магазина, чтобы повысить конверсию и средний чек заказа</td>\n",
       "      <td>8</td>\n",
       "      <td>3</td>\n",
       "      <td>7</td>\n",
       "      <td>3</td>\n",
       "      <td>7.00</td>\n",
       "      <td>56.0</td>\n",
       "    </tr>\n",
       "    <tr>\n",
       "      <th>0</th>\n",
       "      <td>Добавить два новых канала привлечения трафика, что позволит привлекать на 30% больше пользователей</td>\n",
       "      <td>3</td>\n",
       "      <td>10</td>\n",
       "      <td>8</td>\n",
       "      <td>6</td>\n",
       "      <td>13.33</td>\n",
       "      <td>40.0</td>\n",
       "    </tr>\n",
       "    <tr>\n",
       "      <th>6</th>\n",
       "      <td>Показать на главной странице баннеры с актуальными акциями и распродажами, чтобы увеличить конверсию</td>\n",
       "      <td>5</td>\n",
       "      <td>3</td>\n",
       "      <td>8</td>\n",
       "      <td>3</td>\n",
       "      <td>8.00</td>\n",
       "      <td>40.0</td>\n",
       "    </tr>\n",
       "    <tr>\n",
       "      <th>8</th>\n",
       "      <td>Запустить акцию, дающую скидку на товар в день рождения</td>\n",
       "      <td>1</td>\n",
       "      <td>9</td>\n",
       "      <td>9</td>\n",
       "      <td>5</td>\n",
       "      <td>16.20</td>\n",
       "      <td>16.2</td>\n",
       "    </tr>\n",
       "    <tr>\n",
       "      <th>3</th>\n",
       "      <td>Изменить структура категорий, что увеличит конверсию, т.к. пользователи быстрее найдут нужный товар</td>\n",
       "      <td>8</td>\n",
       "      <td>3</td>\n",
       "      <td>3</td>\n",
       "      <td>8</td>\n",
       "      <td>1.12</td>\n",
       "      <td>9.0</td>\n",
       "    </tr>\n",
       "    <tr>\n",
       "      <th>1</th>\n",
       "      <td>Запустить собственную службу доставки, что сократит срок доставки заказов</td>\n",
       "      <td>2</td>\n",
       "      <td>5</td>\n",
       "      <td>4</td>\n",
       "      <td>10</td>\n",
       "      <td>2.00</td>\n",
       "      <td>4.0</td>\n",
       "    </tr>\n",
       "    <tr>\n",
       "      <th>5</th>\n",
       "      <td>Добавить страницу отзывов клиентов о магазине, что позволит увеличить количество заказов</td>\n",
       "      <td>3</td>\n",
       "      <td>2</td>\n",
       "      <td>2</td>\n",
       "      <td>3</td>\n",
       "      <td>1.33</td>\n",
       "      <td>4.0</td>\n",
       "    </tr>\n",
       "    <tr>\n",
       "      <th>4</th>\n",
       "      <td>Изменить цвет фона главной страницы, чтобы увеличить вовлеченность пользователей</td>\n",
       "      <td>3</td>\n",
       "      <td>1</td>\n",
       "      <td>1</td>\n",
       "      <td>1</td>\n",
       "      <td>1.00</td>\n",
       "      <td>3.0</td>\n",
       "    </tr>\n",
       "  </tbody>\n",
       "</table>\n",
       "</div>"
      ],
      "text/plain": [
       "                                                                                                     hypothesis  \\\n",
       "7              Добавить форму подписки на все основные страницы, чтобы собрать базу клиентов для email-рассылок   \n",
       "2  Добавить блоки рекомендаций товаров на сайт интернет магазина, чтобы повысить конверсию и средний чек заказа   \n",
       "0            Добавить два новых канала привлечения трафика, что позволит привлекать на 30% больше пользователей   \n",
       "6          Показать на главной странице баннеры с актуальными акциями и распродажами, чтобы увеличить конверсию   \n",
       "8                                                       Запустить акцию, дающую скидку на товар в день рождения   \n",
       "3           Изменить структура категорий, что увеличит конверсию, т.к. пользователи быстрее найдут нужный товар   \n",
       "1                                     Запустить собственную службу доставки, что сократит срок доставки заказов   \n",
       "5                      Добавить страницу отзывов клиентов о магазине, что позволит увеличить количество заказов   \n",
       "4                              Изменить цвет фона главной страницы, чтобы увеличить вовлеченность пользователей   \n",
       "\n",
       "   reach  impact  confidence  efforts    ice   rice  \n",
       "7     10       7           8        5  11.20  112.0  \n",
       "2      8       3           7        3   7.00   56.0  \n",
       "0      3      10           8        6  13.33   40.0  \n",
       "6      5       3           8        3   8.00   40.0  \n",
       "8      1       9           9        5  16.20   16.2  \n",
       "3      8       3           3        8   1.12    9.0  \n",
       "1      2       5           4       10   2.00    4.0  \n",
       "5      3       2           2        3   1.33    4.0  \n",
       "4      3       1           1        1   1.00    3.0  "
      ]
     },
     "execution_count": 6,
     "metadata": {},
     "output_type": "execute_result"
    }
   ],
   "source": [
    "hypothesis['rice'] = hypothesis['reach'] * hypothesis['impact'] * hypothesis['confidence'] / hypothesis['efforts']\n",
    "hypothesis.sort_values(by = 'rice', ascending = False)"
   ]
  },
  {
   "cell_type": "markdown",
   "metadata": {},
   "source": [
    "по фреймворку RICE наиболее приоритетная 7-ая гипотеза. Она в 2 раза более приоритетная, нежели 2-ая. "
   ]
  },
  {
   "cell_type": "markdown",
   "metadata": {},
   "source": [
    "### Вывод"
   ]
  },
  {
   "cell_type": "markdown",
   "metadata": {},
   "source": [
    "По фреймворку ICE 8-ая гипотеза была самой приоритетной. Однако она затрагивает совсем небольшое количество пользователей ( reach - 1), в связи с чем по фреймворку RICE она сильно опустилась в рейтинге приоритетности. 7-ая и 0-ая гипотезы находятся в топе приоритетности и там, и там. Более того, по фреймворку RICE 7-ая сильно опережает все остальные.\n",
    "\n",
    "2-ая гипотеза не была в топе лидеров по ICE, однако с учетом Reach (скольких пользователей затронет изменение), она стала одной из самых приоритетных, так как Reach у нее равен 10.\n",
    "\n",
    "1,3,4,5 гипотезы стабильно имеют низкую приоритетность\n",
    "\n",
    "<b>Рекомендации:</b> в зависимости от наличия свободных ресурсов на данный момент, выглядит наиболее логичным протестировать сначала  только 7-ую гипотезу (так как ее приоритетность по фреймворку RICE сильно больше остальных). Если же возможностей и ресурсов много, можно протестировать и другие (2-ую, 0-ую) "
   ]
  },
  {
   "cell_type": "markdown",
   "metadata": {},
   "source": [
    "## Часть 2. Анализ A/B-теста\n",
    "\n",
    "Для начала считаем датасеты, изучим их и приведем к корректному виду\n"
   ]
  },
  {
   "cell_type": "code",
   "execution_count": 7,
   "metadata": {},
   "outputs": [],
   "source": [
    "orders = pd.read_csv('/datasets/orders.csv')\n",
    "visitors = pd.read_csv('/datasets/visitors.csv')"
   ]
  },
  {
   "cell_type": "code",
   "execution_count": 8,
   "metadata": {},
   "outputs": [
    {
     "name": "stdout",
     "output_type": "stream",
     "text": [
      "   transactionId   visitorId        date  revenue group\n",
      "0     3667963787  3312258926  2019-08-15     1650     B\n",
      "1     2804400009  3642806036  2019-08-15      730     B\n",
      "2     2961555356  4069496402  2019-08-15      400     A\n",
      "3     3797467345  1196621759  2019-08-15     9759     B\n",
      "4     2282983706  2322279887  2019-08-15     2308     B\n",
      "<class 'pandas.core.frame.DataFrame'>\n",
      "RangeIndex: 1197 entries, 0 to 1196\n",
      "Data columns (total 5 columns):\n",
      " #   Column         Non-Null Count  Dtype \n",
      "---  ------         --------------  ----- \n",
      " 0   transactionId  1197 non-null   int64 \n",
      " 1   visitorId      1197 non-null   int64 \n",
      " 2   date           1197 non-null   object\n",
      " 3   revenue        1197 non-null   int64 \n",
      " 4   group          1197 non-null   object\n",
      "dtypes: int64(3), object(2)\n",
      "memory usage: 46.9+ KB\n",
      "         date group  visitors\n",
      "0  2019-08-01     A       719\n",
      "1  2019-08-02     A       619\n",
      "2  2019-08-03     A       507\n",
      "3  2019-08-04     A       717\n",
      "4  2019-08-05     A       756\n",
      "<class 'pandas.core.frame.DataFrame'>\n",
      "RangeIndex: 62 entries, 0 to 61\n",
      "Data columns (total 3 columns):\n",
      " #   Column    Non-Null Count  Dtype \n",
      "---  ------    --------------  ----- \n",
      " 0   date      62 non-null     object\n",
      " 1   group     62 non-null     object\n",
      " 2   visitors  62 non-null     int64 \n",
      "dtypes: int64(1), object(2)\n",
      "memory usage: 1.6+ KB\n"
     ]
    }
   ],
   "source": [
    "print(orders.head(5))\n",
    "orders.info()\n",
    "print(visitors.head(5))\n",
    "visitors.info()"
   ]
  },
  {
   "cell_type": "markdown",
   "metadata": {},
   "source": [
    "Видим, что даты имеют неправильный тип данных. Также у столбцов имеются названия с верхним регистром"
   ]
  },
  {
   "cell_type": "code",
   "execution_count": 9,
   "metadata": {},
   "outputs": [],
   "source": [
    "orders.columns = ['transaction_id', 'visitor_id', 'date', 'revenue', 'group']\n",
    "orders['date'] = orders['date'].map(lambda x: dt.datetime.strptime(x,'%Y-%m-%d'))\n",
    "\n",
    "visitors['date'] = visitors['date'].map(lambda x: dt.datetime.strptime(x,'%Y-%m-%d'))"
   ]
  },
  {
   "cell_type": "code",
   "execution_count": 10,
   "metadata": {
    "scrolled": true
   },
   "outputs": [
    {
     "name": "stdout",
     "output_type": "stream",
     "text": [
      "0\n",
      "0\n"
     ]
    }
   ],
   "source": [
    "print(orders.duplicated().sum())\n",
    "print(visitors.duplicated().sum())"
   ]
  },
  {
   "cell_type": "markdown",
   "metadata": {},
   "source": [
    "### Проверка корректности сбора данных и проведения А/В теста"
   ]
  },
  {
   "cell_type": "markdown",
   "metadata": {},
   "source": [
    "Проверим размер групп А и В, чтобы иметь основания проводить А/В тест"
   ]
  },
  {
   "cell_type": "code",
   "execution_count": 11,
   "metadata": {},
   "outputs": [
    {
     "name": "stdout",
     "output_type": "stream",
     "text": [
      "Пользователей группе А : 18736 Доля от общего количества:  49.76 %\n",
      "Пользователей группе В : 18916 Доля от общего количества:  50.24 %\n"
     ]
    }
   ],
   "source": [
    "print('Пользователей группе А :',visitors[visitors['group'] == 'A']['visitors'].sum(), \n",
    "      'Доля от общего количества: ', \n",
    "      round(visitors[visitors['group'] == 'A']['visitors'].sum()/visitors['visitors'].sum()*100, 2 ), '%')\n",
    "print('Пользователей группе В :',visitors[visitors['group'] == 'B']['visitors'].sum(),\n",
    "     'Доля от общего количества: ', \n",
    "      round(visitors[visitors['group'] == 'B']['visitors'].sum()/visitors['visitors'].sum()*100, 2 ), '%')\n"
   ]
  },
  {
   "cell_type": "markdown",
   "metadata": {},
   "source": [
    "Количество пользователей в группах примерно равно, отличается менее чем на 1%, что позволяет нам проводить А/В тест. \n",
    "\n",
    "Также стоит проверить для всех групп фиксируют и отправляют в системы аналитики данные об одном и том же. Так как данные по группе А и В передали нам в общих датасетах (orders и visitors), а соответственно столбцы с данными у них одинаковые. Стоит только проверить даты наблюдений (за одинаковые ли дни нам прислали данные для групп)"
   ]
  },
  {
   "cell_type": "code",
   "execution_count": 12,
   "metadata": {},
   "outputs": [
    {
     "name": "stdout",
     "output_type": "stream",
     "text": [
      "0\n"
     ]
    },
    {
     "data": {
      "text/plain": [
       "0"
      ]
     },
     "execution_count": 12,
     "metadata": {},
     "output_type": "execute_result"
    }
   ],
   "source": [
    "print((~orders[orders['group'] == 'B']['date'].isin(orders[orders['group'] == 'A']['date'].unique())).sum())\n",
    "(~orders[orders['group'] == 'A']['date'].isin(orders[orders['group'] == 'B']['date'].unique())).sum()"
   ]
  },
  {
   "cell_type": "code",
   "execution_count": 13,
   "metadata": {
    "scrolled": true
   },
   "outputs": [
    {
     "name": "stdout",
     "output_type": "stream",
     "text": [
      "0\n"
     ]
    },
    {
     "data": {
      "text/plain": [
       "0"
      ]
     },
     "execution_count": 13,
     "metadata": {},
     "output_type": "execute_result"
    }
   ],
   "source": [
    "print((~visitors[visitors['group'] == 'B']['date'].isin(visitors[visitors['group'] == 'A']['date'].unique())).sum())\n",
    "(~visitors[visitors['group'] == 'A']['date'].isin(visitors[visitors['group'] == 'B']['date'].unique())).sum()"
   ]
  },
  {
   "cell_type": "markdown",
   "metadata": {},
   "source": [
    "Все ок, у группы В нет таких дат , которых нет у группы А, и наоборот, у группы А нет таких дат , которых нет у группы В. Можно заключить, что  для всех групп фиксируют и отправляют в системы аналитики данные об одном и том же.\n",
    "\n"
   ]
  },
  {
   "cell_type": "markdown",
   "metadata": {},
   "source": [
    "Проверим дополнительно, за одинаковые ли даты  в таблицах orders и visitors представлены данные. Найдем, сколько дат из одной таблицы нет в другой"
   ]
  },
  {
   "cell_type": "code",
   "execution_count": 17,
   "metadata": {},
   "outputs": [
    {
     "name": "stdout",
     "output_type": "stream",
     "text": [
      "0\n",
      "0\n"
     ]
    }
   ],
   "source": [
    "print((~orders['date'].isin(visitors['date'].unique())).sum())\n",
    "print((~visitors['date'].isin(orders['date'].unique())).sum())"
   ]
  },
  {
   "cell_type": "markdown",
   "metadata": {},
   "source": [
    "Все ок, данные даны за одинаковые даты"
   ]
  },
  {
   "cell_type": "markdown",
   "metadata": {},
   "source": [
    "Также проверим, насколько нам это возможно, чтобы попавший в одну из групп посетитель оставался в этой группе до конца теста."
   ]
  },
  {
   "cell_type": "code",
   "execution_count": 14,
   "metadata": {
    "scrolled": true
   },
   "outputs": [
    {
     "data": {
      "text/plain": [
       "92"
      ]
     },
     "execution_count": 14,
     "metadata": {},
     "output_type": "execute_result"
    }
   ],
   "source": [
    "(orders[orders['group'] == 'B']['visitor_id'].isin(orders[orders['group'] == 'A']['visitor_id'].unique())).sum()"
   ]
  },
  {
   "cell_type": "code",
   "execution_count": 15,
   "metadata": {},
   "outputs": [
    {
     "data": {
      "text/plain": [
       "array([   8300375,  199603092,  232979603,  237748145,  276558944,\n",
       "        351125977,  393266494,  457167155,  471551937,  477780734,\n",
       "        818047933,  963407295, 1230306981, 1294878855, 1316129916,\n",
       "       1333886533, 1404934699, 1602967004, 1614305549, 1648269707,\n",
       "       1668030113, 1738359350, 1801183820, 1959144690, 2038680547,\n",
       "       2044997962, 2378935119, 2458001652, 2579882178, 2587333274,\n",
       "       2600415354, 2654030115, 2686716486, 2712142231, 2716752286,\n",
       "       2780786433, 2927087541, 2949041841, 2954449915, 3062433592,\n",
       "       3202540741, 3234906277, 3656415546, 3717692402, 3766097110,\n",
       "       3803269165, 3891541246, 3941795274, 3951559397, 3957174400,\n",
       "       3963646447, 3972127743, 3984495233, 4069496402, 4120364173,\n",
       "       4186807279, 4256040402, 4266935830])"
      ]
     },
     "execution_count": 15,
     "metadata": {},
     "output_type": "execute_result"
    }
   ],
   "source": [
    "b_id = orders[orders['group'] == 'B']['visitor_id'].unique()\n",
    "a_id = orders[orders['group'] == 'A']['visitor_id'].unique()\n",
    "\n",
    "np.intersect1d(a_id, b_id)"
   ]
  },
  {
   "cell_type": "code",
   "execution_count": 16,
   "metadata": {},
   "outputs": [
    {
     "data": {
      "text/html": [
       "<div>\n",
       "<style scoped>\n",
       "    .dataframe tbody tr th:only-of-type {\n",
       "        vertical-align: middle;\n",
       "    }\n",
       "\n",
       "    .dataframe tbody tr th {\n",
       "        vertical-align: top;\n",
       "    }\n",
       "\n",
       "    .dataframe thead th {\n",
       "        text-align: right;\n",
       "    }\n",
       "</style>\n",
       "<table border=\"1\" class=\"dataframe\">\n",
       "  <thead>\n",
       "    <tr style=\"text-align: right;\">\n",
       "      <th></th>\n",
       "      <th>transaction_id</th>\n",
       "      <th>visitor_id</th>\n",
       "      <th>date</th>\n",
       "      <th>revenue</th>\n",
       "      <th>group</th>\n",
       "    </tr>\n",
       "  </thead>\n",
       "  <tbody>\n",
       "    <tr>\n",
       "      <th>71</th>\n",
       "      <td>3679129301</td>\n",
       "      <td>8300375</td>\n",
       "      <td>2019-08-01</td>\n",
       "      <td>10510</td>\n",
       "      <td>B</td>\n",
       "    </tr>\n",
       "    <tr>\n",
       "      <th>703</th>\n",
       "      <td>4293855558</td>\n",
       "      <td>8300375</td>\n",
       "      <td>2019-08-07</td>\n",
       "      <td>1790</td>\n",
       "      <td>A</td>\n",
       "    </tr>\n",
       "  </tbody>\n",
       "</table>\n",
       "</div>"
      ],
      "text/plain": [
       "     transaction_id  visitor_id       date  revenue group\n",
       "71       3679129301     8300375 2019-08-01    10510     B\n",
       "703      4293855558     8300375 2019-08-07     1790     A"
      ]
     },
     "execution_count": 16,
     "metadata": {},
     "output_type": "execute_result"
    }
   ],
   "source": [
    "orders[orders['visitor_id'] == 8300375]"
   ]
  },
  {
   "cell_type": "markdown",
   "metadata": {},
   "source": [
    "### ! Видим, что не выполняется условие : есть такие пользователи, которые одновременно попали и в группу А, и в группу В (к примеру, пользователь в id 8300375). Таких пользователей необходимо было бы удалить, однако в данном случае таблица с визитами содержит уже агрегированные данные, эффективно очистить обе таблицы не получится, поэтому пользователей  оставим в тесте и проанализируем его результаты."
   ]
  },
  {
   "cell_type": "markdown",
   "metadata": {},
   "source": [
    "###  Кумулятивная выручка по группам"
   ]
  },
  {
   "cell_type": "code",
   "execution_count": 18,
   "metadata": {},
   "outputs": [
    {
     "data": {
      "text/html": [
       "<div>\n",
       "<style scoped>\n",
       "    .dataframe tbody tr th:only-of-type {\n",
       "        vertical-align: middle;\n",
       "    }\n",
       "\n",
       "    .dataframe tbody tr th {\n",
       "        vertical-align: top;\n",
       "    }\n",
       "\n",
       "    .dataframe thead th {\n",
       "        text-align: right;\n",
       "    }\n",
       "</style>\n",
       "<table border=\"1\" class=\"dataframe\">\n",
       "  <thead>\n",
       "    <tr style=\"text-align: right;\">\n",
       "      <th></th>\n",
       "      <th>date</th>\n",
       "      <th>group</th>\n",
       "      <th>buyers</th>\n",
       "      <th>orders</th>\n",
       "      <th>revenue</th>\n",
       "      <th>visitors</th>\n",
       "    </tr>\n",
       "  </thead>\n",
       "  <tbody>\n",
       "    <tr>\n",
       "      <th>0</th>\n",
       "      <td>2019-08-01</td>\n",
       "      <td>A</td>\n",
       "      <td>20</td>\n",
       "      <td>24</td>\n",
       "      <td>148579</td>\n",
       "      <td>719</td>\n",
       "    </tr>\n",
       "    <tr>\n",
       "      <th>1</th>\n",
       "      <td>2019-08-01</td>\n",
       "      <td>B</td>\n",
       "      <td>20</td>\n",
       "      <td>21</td>\n",
       "      <td>101217</td>\n",
       "      <td>713</td>\n",
       "    </tr>\n",
       "    <tr>\n",
       "      <th>2</th>\n",
       "      <td>2019-08-02</td>\n",
       "      <td>A</td>\n",
       "      <td>38</td>\n",
       "      <td>44</td>\n",
       "      <td>242401</td>\n",
       "      <td>1338</td>\n",
       "    </tr>\n",
       "    <tr>\n",
       "      <th>3</th>\n",
       "      <td>2019-08-02</td>\n",
       "      <td>B</td>\n",
       "      <td>43</td>\n",
       "      <td>45</td>\n",
       "      <td>266748</td>\n",
       "      <td>1294</td>\n",
       "    </tr>\n",
       "    <tr>\n",
       "      <th>4</th>\n",
       "      <td>2019-08-03</td>\n",
       "      <td>A</td>\n",
       "      <td>62</td>\n",
       "      <td>68</td>\n",
       "      <td>354874</td>\n",
       "      <td>1845</td>\n",
       "    </tr>\n",
       "    <tr>\n",
       "      <th>5</th>\n",
       "      <td>2019-08-03</td>\n",
       "      <td>B</td>\n",
       "      <td>59</td>\n",
       "      <td>61</td>\n",
       "      <td>380996</td>\n",
       "      <td>1803</td>\n",
       "    </tr>\n",
       "    <tr>\n",
       "      <th>6</th>\n",
       "      <td>2019-08-04</td>\n",
       "      <td>B</td>\n",
       "      <td>75</td>\n",
       "      <td>78</td>\n",
       "      <td>489567</td>\n",
       "      <td>2573</td>\n",
       "    </tr>\n",
       "    <tr>\n",
       "      <th>7</th>\n",
       "      <td>2019-08-04</td>\n",
       "      <td>A</td>\n",
       "      <td>77</td>\n",
       "      <td>84</td>\n",
       "      <td>425699</td>\n",
       "      <td>2562</td>\n",
       "    </tr>\n",
       "    <tr>\n",
       "      <th>8</th>\n",
       "      <td>2019-08-05</td>\n",
       "      <td>B</td>\n",
       "      <td>98</td>\n",
       "      <td>101</td>\n",
       "      <td>581995</td>\n",
       "      <td>3280</td>\n",
       "    </tr>\n",
       "    <tr>\n",
       "      <th>9</th>\n",
       "      <td>2019-08-05</td>\n",
       "      <td>A</td>\n",
       "      <td>100</td>\n",
       "      <td>109</td>\n",
       "      <td>549917</td>\n",
       "      <td>3318</td>\n",
       "    </tr>\n",
       "  </tbody>\n",
       "</table>\n",
       "</div>"
      ],
      "text/plain": [
       "        date group  buyers  orders  revenue  visitors\n",
       "0 2019-08-01     A      20      24   148579       719\n",
       "1 2019-08-01     B      20      21   101217       713\n",
       "2 2019-08-02     A      38      44   242401      1338\n",
       "3 2019-08-02     B      43      45   266748      1294\n",
       "4 2019-08-03     A      62      68   354874      1845\n",
       "5 2019-08-03     B      59      61   380996      1803\n",
       "6 2019-08-04     B      75      78   489567      2573\n",
       "7 2019-08-04     A      77      84   425699      2562\n",
       "8 2019-08-05     B      98     101   581995      3280\n",
       "9 2019-08-05     A     100     109   549917      3318"
      ]
     },
     "execution_count": 18,
     "metadata": {},
     "output_type": "execute_result"
    }
   ],
   "source": [
    "# находи уникальные пары дат и групп\n",
    "#orders[['date', 'group']].drop_duplicates().sort_values(by = 'date')\n",
    "\n",
    "cum_ord = orders[['date', 'group']].drop_duplicates().sort_values(by = 'date')\\\n",
    ".apply(\n",
    "    lambda x : orders[(orders['date'] <= x['date']) & (orders['group'] == x['group'])]\\\n",
    "    .agg({'date':'max',\n",
    "         'group':'max',\n",
    "          'visitor_id':'nunique',\n",
    "          'transaction_id':'nunique',\n",
    "         'revenue':'sum'}), axis=1\n",
    ").rename(columns = {'visitor_id':'buyers',\n",
    "                   'transaction_id':'orders'})\n",
    "\n",
    "\n",
    "cum_visits = visitors[['date', 'group']].drop_duplicates().sort_values(by = 'date')\\\n",
    ".apply(lambda x: \n",
    "       visitors[(visitors['date']<=x['date']) & (visitors['group']==x['group'])]\\\n",
    "       .agg(\n",
    "           {'date':'max',\n",
    "           'group':'max',\n",
    "           'visitors':'sum'}\n",
    "       ),\n",
    "       axis =1\n",
    "      )\n",
    "cum_stat = cum_ord.merge(cum_visits, on = ['date', 'group'], how='left')\n",
    "\n",
    "\n",
    "cum_stat\n",
    "cum_stat.head(10)"
   ]
  },
  {
   "cell_type": "code",
   "execution_count": 19,
   "metadata": {
    "scrolled": false
   },
   "outputs": [
    {
     "data": {
      "image/png": "[encoded data removed]",
      "text/plain": [
       "<Figure size 720x360 with 1 Axes>"
      ]
     },
     "metadata": {
      "needs_background": "light"
     },
     "output_type": "display_data"
    }
   ],
   "source": [
    "plt.figure(figsize=(10,5))\n",
    "plt.plot(cum_stat[cum_stat['group'] == 'A']['date'], \n",
    "         cum_stat[cum_stat['group'] == 'A']['revenue'],\n",
    "         label = 'A')\n",
    "plt.plot(cum_stat[cum_stat['group'] == 'B']['date'], \n",
    "         cum_stat[cum_stat['group'] == 'B']['revenue'],\n",
    "         label = 'B')\n",
    "\n",
    "plt.legend()\n",
    "plt.title('Куммулятивная выручка по группам')\n",
    "plt.xlabel('Дата')\n",
    "plt.ylabel('Выручка')\n",
    "plt.show()"
   ]
  },
  {
   "cell_type": "markdown",
   "metadata": {},
   "source": [
    "Видим, что куммулятивная выручка группы В стабильно больше, чем у группы А. Однако приблизительно 19 августа 2019 наблюдается сильный скачок куммулятивной выручки у группы В, что может свидетельствовать о наличии аномально дорогих заказов там или  о всплеске числа заказов в этот день. \n",
    "\n",
    "На данном этапе можно выдвинуть предположение, что группа В будет иметь лучше показатели, чем группа А, и различие будет статистически значимым"
   ]
  },
  {
   "cell_type": "markdown",
   "metadata": {},
   "source": [
    "### Кумулятивный средний чек по группам"
   ]
  },
  {
   "cell_type": "code",
   "execution_count": 20,
   "metadata": {
    "scrolled": false
   },
   "outputs": [
    {
     "data": {
      "image/png": "[encoded data removed]",
      "text/plain": [
       "<Figure size 720x360 with 1 Axes>"
      ]
     },
     "metadata": {
      "needs_background": "light"
     },
     "output_type": "display_data"
    }
   ],
   "source": [
    "plt.figure(figsize=(10,5))\n",
    "plt.plot(cum_stat[cum_stat['group'] == 'A']['date'], \n",
    "         cum_stat[cum_stat['group'] == 'A']['revenue']/cum_stat[cum_stat['group'] == 'A']['orders'],\n",
    "         label = 'A')\n",
    "plt.plot(cum_stat[cum_stat['group'] == 'B']['date'], \n",
    "         cum_stat[cum_stat['group'] == 'B']['revenue']/cum_stat[cum_stat['group'] == 'B']['orders'] ,\n",
    "         label = 'B')\n",
    "\n",
    "plt.legend()\n",
    "plt.title('Куммулятивный средний чек по группам')\n",
    "plt.xlabel('Дата')\n",
    "plt.ylabel('Средний чек')\n",
    "plt.show()"
   ]
  },
  {
   "cell_type": "markdown",
   "metadata": {},
   "source": [
    "На графике видно, что большую часть времени куммулятивный средний чек группы В выше, чем у группы А. Приблизительно 19 августа 2019 мы видим резкий скачок показателя среднего чека у группы В. Это говорит о наличии там заказов с аномально большой суммой. \n",
    "\n",
    "Вероятно, если исключить эти выбросы, которые привели к такому скачку показателя среднего чека, разница между группами будет незначительна. Однако на данном этапе с учетом аномалий - куммулятивный средний чек группы В приблизительно на 2000 у.е. больше, чем у группы А."
   ]
  },
  {
   "cell_type": "markdown",
   "metadata": {},
   "source": [
    "### Относительное изменение кумулятивного среднего чека группы B к группе A"
   ]
  },
  {
   "cell_type": "code",
   "execution_count": 21,
   "metadata": {
    "scrolled": false
   },
   "outputs": [
    {
     "data": {
      "image/png": "[encoded data removed]",
      "text/plain": [
       "<Figure size 720x360 with 1 Axes>"
      ]
     },
     "metadata": {
      "needs_background": "light"
     },
     "output_type": "display_data"
    }
   ],
   "source": [
    "plt.figure(figsize=(10,5))\n",
    "\n",
    "merged_cum = cum_stat[cum_stat['group'] == 'A'][['date','buyers','orders','visitors','revenue']]\\\n",
    ".merge(\n",
    "    cum_stat[cum_stat['group'] == 'B'][['date','buyers','orders','visitors','revenue']], \n",
    "    on = 'date', \n",
    "    how = 'left', \n",
    "    suffixes = ['A','B']\n",
    ")\n",
    "\n",
    "plt.plot(merged_cum['date'], \n",
    "         (merged_cum['revenueB']/merged_cum['ordersB'])/\\\n",
    "         (merged_cum['revenueA']/merged_cum['ordersA']) -1\n",
    "        )\n",
    "\n",
    "plt.axhline(y=0, color='black', linestyle='--')\n",
    "plt.title('Относительное изменение куммулятивного среднего чека группы В к группе А')\n",
    "plt.xlabel('Дата')\n",
    "plt.ylabel('Разница/ отношение показателей')\n",
    "\n",
    "plt.show()"
   ]
  },
  {
   "cell_type": "markdown",
   "metadata": {},
   "source": [
    "График относительного изменения подтверждает,что большую часть времени средний чек группы В выше, чем у группы А. За исключением периода где-то с 12 по 15 августа - в это время средний чек группы А возрос и превышал средний чек группы В.\n",
    "\n",
    "Есть резкие скачки, что свидетельствует о наличии выбросов. Поэтому после исключения их из наблюдения результаты могут поменяться"
   ]
  },
  {
   "cell_type": "markdown",
   "metadata": {},
   "source": [
    "### График кумулятивного среднего количества заказов на посетителя по группам"
   ]
  },
  {
   "cell_type": "code",
   "execution_count": 22,
   "metadata": {},
   "outputs": [
    {
     "data": {
      "text/html": [
       "<div>\n",
       "<style scoped>\n",
       "    .dataframe tbody tr th:only-of-type {\n",
       "        vertical-align: middle;\n",
       "    }\n",
       "\n",
       "    .dataframe tbody tr th {\n",
       "        vertical-align: top;\n",
       "    }\n",
       "\n",
       "    .dataframe thead th {\n",
       "        text-align: right;\n",
       "    }\n",
       "</style>\n",
       "<table border=\"1\" class=\"dataframe\">\n",
       "  <thead>\n",
       "    <tr style=\"text-align: right;\">\n",
       "      <th></th>\n",
       "      <th>date</th>\n",
       "      <th>buyersA</th>\n",
       "      <th>ordersA</th>\n",
       "      <th>visitorsA</th>\n",
       "      <th>revenueA</th>\n",
       "      <th>buyersB</th>\n",
       "      <th>ordersB</th>\n",
       "      <th>visitorsB</th>\n",
       "      <th>revenueB</th>\n",
       "    </tr>\n",
       "  </thead>\n",
       "  <tbody>\n",
       "    <tr>\n",
       "      <th>0</th>\n",
       "      <td>2019-08-01</td>\n",
       "      <td>20</td>\n",
       "      <td>24</td>\n",
       "      <td>719</td>\n",
       "      <td>148579</td>\n",
       "      <td>20</td>\n",
       "      <td>21</td>\n",
       "      <td>713</td>\n",
       "      <td>101217</td>\n",
       "    </tr>\n",
       "    <tr>\n",
       "      <th>1</th>\n",
       "      <td>2019-08-02</td>\n",
       "      <td>38</td>\n",
       "      <td>44</td>\n",
       "      <td>1338</td>\n",
       "      <td>242401</td>\n",
       "      <td>43</td>\n",
       "      <td>45</td>\n",
       "      <td>1294</td>\n",
       "      <td>266748</td>\n",
       "    </tr>\n",
       "    <tr>\n",
       "      <th>2</th>\n",
       "      <td>2019-08-03</td>\n",
       "      <td>62</td>\n",
       "      <td>68</td>\n",
       "      <td>1845</td>\n",
       "      <td>354874</td>\n",
       "      <td>59</td>\n",
       "      <td>61</td>\n",
       "      <td>1803</td>\n",
       "      <td>380996</td>\n",
       "    </tr>\n",
       "    <tr>\n",
       "      <th>3</th>\n",
       "      <td>2019-08-04</td>\n",
       "      <td>77</td>\n",
       "      <td>84</td>\n",
       "      <td>2562</td>\n",
       "      <td>425699</td>\n",
       "      <td>75</td>\n",
       "      <td>78</td>\n",
       "      <td>2573</td>\n",
       "      <td>489567</td>\n",
       "    </tr>\n",
       "    <tr>\n",
       "      <th>4</th>\n",
       "      <td>2019-08-05</td>\n",
       "      <td>100</td>\n",
       "      <td>109</td>\n",
       "      <td>3318</td>\n",
       "      <td>549917</td>\n",
       "      <td>98</td>\n",
       "      <td>101</td>\n",
       "      <td>3280</td>\n",
       "      <td>581995</td>\n",
       "    </tr>\n",
       "  </tbody>\n",
       "</table>\n",
       "</div>"
      ],
      "text/plain": [
       "        date  buyersA  ordersA  visitorsA  revenueA  buyersB  ordersB  \\\n",
       "0 2019-08-01       20       24        719    148579       20       21   \n",
       "1 2019-08-02       38       44       1338    242401       43       45   \n",
       "2 2019-08-03       62       68       1845    354874       59       61   \n",
       "3 2019-08-04       77       84       2562    425699       75       78   \n",
       "4 2019-08-05      100      109       3318    549917       98      101   \n",
       "\n",
       "   visitorsB  revenueB  \n",
       "0        713    101217  \n",
       "1       1294    266748  \n",
       "2       1803    380996  \n",
       "3       2573    489567  \n",
       "4       3280    581995  "
      ]
     },
     "execution_count": 22,
     "metadata": {},
     "output_type": "execute_result"
    }
   ],
   "source": [
    "\n",
    "merged_cum.head(5)\n"
   ]
  },
  {
   "cell_type": "code",
   "execution_count": 23,
   "metadata": {
    "scrolled": false
   },
   "outputs": [
    {
     "data": {
      "image/png": "[encoded data removed]",
      "text/plain": [
       "<Figure size 720x360 with 1 Axes>"
      ]
     },
     "metadata": {
      "needs_background": "light"
     },
     "output_type": "display_data"
    }
   ],
   "source": [
    "plt.figure(figsize=(10,5))\n",
    "plt.plot(merged_cum['date'], \n",
    "         merged_cum['ordersA']/ merged_cum['visitorsA'], label = 'A')\n",
    "\n",
    "plt.plot(merged_cum['date'], \n",
    "         merged_cum['ordersB']/ merged_cum['visitorsB'], label = 'B')\n",
    "\n",
    "plt.legend()\n",
    "plt.title('График кумулятивного среднего количества заказов на посетителя по группам')\n",
    "plt.xlabel('Дата')\n",
    "plt.ylabel('Количество заказов на посетителя')\n",
    "plt.show()"
   ]
  },
  {
   "cell_type": "markdown",
   "metadata": {},
   "source": [
    "В начале наблюдений заметны сильные флуктуации в среднем количестве заказов на посетителя, однако затем данный показатель стабилизируется. У группы В среднее количество заказов на посетителя в итоге больше, чем у группы А. "
   ]
  },
  {
   "cell_type": "markdown",
   "metadata": {},
   "source": [
    "### Относительное изменение кумулятивного среднего количества заказов на посетителя группы B к группе A"
   ]
  },
  {
   "cell_type": "code",
   "execution_count": 24,
   "metadata": {},
   "outputs": [
    {
     "data": {
      "image/png": "[encoded data removed]",
      "text/plain": [
       "<Figure size 720x360 with 1 Axes>"
      ]
     },
     "metadata": {
      "needs_background": "light"
     },
     "output_type": "display_data"
    }
   ],
   "source": [
    "plt.figure(figsize=(10,5))\n",
    "plt.plot(merged_cum['date'], \n",
    "         (merged_cum['ordersB']/ merged_cum['visitorsB'])/(merged_cum['ordersA']/ merged_cum['visitorsA'])-1)\n",
    "\n",
    "plt.axhline(y=0, color = 'black', linestyle = '--')\n",
    "plt.title('График относительного изменения кумулятивного среднего количества заказов на посетителя группы B к группе A')\n",
    "plt.xlabel('Дата')\n",
    "plt.ylabel('Разница/ отношение показателей')\n",
    "plt.axhline(y=0.15, color = 'green', linestyle = '--')\n",
    "plt.show()"
   ]
  },
  {
   "cell_type": "markdown",
   "metadata": {},
   "source": [
    "Видим, что в начале наблюдений среднее количество заказов на посетителя у группы А бывало больше, чем у группы В. Однако где-то после 6 августа группа В стала стабильным лидером по нему. \n",
    "\n",
    "В целом можно сказать, что картина по среднему количествау заказов на посетителя  ясна - у группы В она стабильно выше . Около значения  0.15 намечается тенденция к стабилизации отношения показателей группы В к группе А\n",
    "\n",
    "Однако, прежде чем делать окончательные выводы, стоит проанализировать аномалии, возможно, они изменят картину.\n"
   ]
  },
  {
   "cell_type": "markdown",
   "metadata": {},
   "source": [
    "### Среднее количество заказов по пользователям"
   ]
  },
  {
   "cell_type": "code",
   "execution_count": 25,
   "metadata": {},
   "outputs": [
    {
     "data": {
      "image/png": "[encoded data removed]",
      "text/plain": [
       "<Figure size 432x288 with 1 Axes>"
      ]
     },
     "metadata": {
      "needs_background": "light"
     },
     "output_type": "display_data"
    }
   ],
   "source": [
    "orders_by_user = orders.groupby('visitor_id', as_index = False).agg({'transaction_id':'nunique'})\n",
    "\n",
    "\n",
    "plt.scatter(range(len(orders_by_user)), orders_by_user['transaction_id'])\n",
    "plt.title('Количество заказов по пользователям')\n",
    "plt.xlabel('Пользователь')\n",
    "plt.ylabel('Количество заказов')\n",
    "plt.show()"
   ]
  },
  {
   "cell_type": "markdown",
   "metadata": {},
   "source": [
    "Из графика видно, что большинство пользователей имеют 1 заказ. И лишь немногие имеют более 3 заказов. Самое максимальное количество заказов - 11. Такие клиенты исключение, поэтому их мы их в дальнейшем исключим из наблюдений, чтобы посмотреть на \"среднюю\" картину.\n",
    "\n"
   ]
  },
  {
   "cell_type": "markdown",
   "metadata": {},
   "source": [
    "### Перцентили количества заказов на пользователя. Выбор границы для определения аномальных пользователей.\n"
   ]
  },
  {
   "cell_type": "code",
   "execution_count": 26,
   "metadata": {},
   "outputs": [
    {
     "data": {
      "text/plain": [
       "array([2., 4.])"
      ]
     },
     "execution_count": 26,
     "metadata": {},
     "output_type": "execute_result"
    }
   ],
   "source": [
    "np.percentile(orders_by_user['transaction_id'], [95,99])"
   ]
  },
  {
   "cell_type": "markdown",
   "metadata": {},
   "source": [
    "Считаю, что аномальные пользователи должны считаться от 4 заказов (включительно) и больше, так как это соответствует 99-ому персентилю, а также визуально на точечном графике такие пользователи составляют меньшинство."
   ]
  },
  {
   "cell_type": "markdown",
   "metadata": {},
   "source": [
    "### Средняя стоимость заказов"
   ]
  },
  {
   "cell_type": "code",
   "execution_count": 27,
   "metadata": {
    "scrolled": true
   },
   "outputs": [
    {
     "data": {
      "image/png": "[encoded data removed]",
      "text/plain": [
       "<Figure size 720x360 with 1 Axes>"
      ]
     },
     "metadata": {
      "needs_background": "light"
     },
     "output_type": "display_data"
    }
   ],
   "source": [
    "plt.figure(figsize=(10,5))\n",
    "plt.scatter(range(len(orders)), orders['revenue'])\n",
    "plt.title('График стоимостей заказов')\n",
    "plt.xlabel('Заказ')\n",
    "plt.ylabel('Выручка')\n",
    "plt.show()"
   ]
  },
  {
   "cell_type": "markdown",
   "metadata": {},
   "source": [
    "из графика видим, что есть один крайне выделяющийся заказ с суммой более 1,2 млн у.е. Его точно можно считать выбросом. Этот заказ настоко больше остальных, что придется еще смотреть на график в другом масштабе. Еще один заметный выделяющийся заказ на сумму около 200000 у. е. Остальные заказы значительно ниже по выручке"
   ]
  },
  {
   "cell_type": "code",
   "execution_count": 28,
   "metadata": {},
   "outputs": [
    {
     "data": {
      "image/png": "[encoded data removed]",
      "text/plain": [
       "<Figure size 720x360 with 1 Axes>"
      ]
     },
     "metadata": {
      "needs_background": "light"
     },
     "output_type": "display_data"
    }
   ],
   "source": [
    "plt.figure(figsize=(10,5))\n",
    "plt.scatter(range(len(orders)), orders['revenue'])\n",
    "plt.ylim(0, 210000)\n",
    "plt.title('График стоимостей заказов')\n",
    "plt.xlabel('Заказ')\n",
    "plt.ylabel('Выручка')\n",
    "plt.show()"
   ]
  },
  {
   "cell_type": "markdown",
   "metadata": {},
   "source": [
    "Если судить исключительно визуально, то границу выбросов я бы установила где-то на 60000 у.е. Посмотрим на 95-й и 99-й персентиль, чтобы принять окончательное решение"
   ]
  },
  {
   "cell_type": "markdown",
   "metadata": {},
   "source": [
    "### Перцентили стоимости заказов. Выбор границы для определения аномальных заказов."
   ]
  },
  {
   "cell_type": "code",
   "execution_count": 29,
   "metadata": {},
   "outputs": [
    {
     "data": {
      "text/plain": [
       "array([28000. , 58233.2])"
      ]
     },
     "execution_count": 29,
     "metadata": {},
     "output_type": "execute_result"
    }
   ],
   "source": [
    "np.percentile(orders['revenue'], [95,99])"
   ]
  },
  {
   "cell_type": "markdown",
   "metadata": {},
   "source": [
    "99-й персентиль соответствует значению выручки 58233.2, поэтому предлагаю установить границу выбросов на нем. 95-й персентиль не берем, так как нам все таки важно рассматривать не только  дешевые заказы"
   ]
  },
  {
   "cell_type": "markdown",
   "metadata": {},
   "source": [
    "### Статистическая значимость различий в среднем количестве заказов на посетителя между группами по «сырым» данным\n",
    "\n",
    "чтобы провести данный анализ необходимо добавить пользователей, которые не совершили ни одного заказа"
   ]
  },
  {
   "cell_type": "code",
   "execution_count": 30,
   "metadata": {},
   "outputs": [],
   "source": [
    "#для группы А\n",
    "users_A = orders[orders['group'] == 'A']\\\n",
    ".groupby('visitor_id', as_index = False)\\\n",
    ".agg({'transaction_id':'nunique'})\n",
    "    \n",
    "    \n",
    "user_orders_A = pd.concat([\n",
    "    users_A['transaction_id'],\n",
    "    pd.Series(0, \n",
    "              index = np.arange(\n",
    "                  visitors[visitors['group'] == 'A']['visitors'].sum()- len(users_A['transaction_id'])\n",
    "              )\n",
    "             )\n",
    "])\n",
    "\n",
    "#для группы В\n",
    "users_B = orders[orders['group'] == 'B']\\\n",
    ".groupby('visitor_id', as_index = False)\\\n",
    ".agg({'transaction_id':'nunique'})\n",
    "    \n",
    "    \n",
    "user_orders_B = pd.concat([\n",
    "    users_B['transaction_id'],\n",
    "    pd.Series(0, \n",
    "              index = np.arange(\n",
    "                  visitors[visitors['group'] == 'B']['visitors'].sum()- len(users_B['transaction_id'])\n",
    "              )\n",
    "             )\n",
    "])\n"
   ]
  },
  {
   "cell_type": "markdown",
   "metadata": {},
   "source": [
    "Проверим распределение на нормальность критерием Шапиро-Уилка. Нулевая гипотеза: распределение нормальное. Альтернативная гипотеза: распределение не нормальное.\n",
    "\n",
    "Н0: распределение нормальное\n",
    "\n",
    "На:распределение не нормальное\n",
    "\n",
    "alpha = 0,05\n",
    "\n",
    "При уровне статистической значимости 0,05 для распределения выручки отвергаем нулевую гипотезу (т.к. p-значение<0,05) : распределение не нормально. Поэтому некорректно будет пользоваться параметрическими тестами"
   ]
  },
  {
   "cell_type": "code",
   "execution_count": 31,
   "metadata": {
    "scrolled": true
   },
   "outputs": [
    {
     "name": "stdout",
     "output_type": "stream",
     "text": [
      "p-значение:  0.0\n",
      "p-значение:  0.0\n"
     ]
    },
    {
     "name": "stderr",
     "output_type": "stream",
     "text": [
      "/opt/conda/lib/python3.9/site-packages/scipy/stats/_morestats.py:1800: UserWarning: p-value may not be accurate for N > 5000.\n",
      "  warnings.warn(\"p-value may not be accurate for N > 5000.\")\n"
     ]
    }
   ],
   "source": [
    "print('p-значение: ', st.shapiro(user_orders_B)[1])\n",
    "print('p-значение: ', st.shapiro(user_orders_A)[1])\n"
   ]
  },
  {
   "cell_type": "markdown",
   "metadata": {},
   "source": [
    "Проведем непараметрический тест Уилкоксона-Манна-Уитни\n",
    "\n",
    "Н0:   среднее количество заказов на посетителя в группах А и В равны. Статистически значимых различий в среднем количестве заказов на посетителя между группами по сырым данным нет.\n",
    "\n",
    "На:  среднее количество заказов на посетителя в группах А и В не равны.  Статистически значимые различия в среднем количестве заказов на посетителя между группами по сырым данным есть.\n",
    "\n",
    "alpha = 0,05"
   ]
  },
  {
   "cell_type": "code",
   "execution_count": 32,
   "metadata": {},
   "outputs": [
    {
     "data": {
      "text/plain": [
       "0        1\n",
       "1        1\n",
       "2        1\n",
       "3        1\n",
       "4        1\n",
       "        ..\n",
       "18228    0\n",
       "18229    0\n",
       "18230    0\n",
       "18231    0\n",
       "18232    0\n",
       "Length: 18736, dtype: int64"
      ]
     },
     "execution_count": 32,
     "metadata": {},
     "output_type": "execute_result"
    }
   ],
   "source": [
    "user_orders_A"
   ]
  },
  {
   "cell_type": "code",
   "execution_count": 32,
   "metadata": {
    "scrolled": true
   },
   "outputs": [
    {
     "name": "stdout",
     "output_type": "stream",
     "text": [
      "p-значение: \n",
      "0.01679\n"
     ]
    }
   ],
   "source": [
    "print('p-значение: ')\n",
    "print(\"{0:.5f}\".format(st.mannwhitneyu(user_orders_A,user_orders_B)[1]))"
   ]
  },
  {
   "cell_type": "markdown",
   "metadata": {},
   "source": [
    "По неочищенным от выбросов данных p-value непараметрического теста Уилкоксона-Манна-Уитни < 0.05 (классического уровня значимости), что означает, что нулевая гипотеза (о равенстве среднего количества заказов на посетителя в группах А и В) отвергается в сторону альтернативной (что средние групп не равны).\n",
    "\n",
    " Посмотрим дополнительно, у какой из групп данный показатель больше"
   ]
  },
  {
   "cell_type": "code",
   "execution_count": 33,
   "metadata": {},
   "outputs": [
    {
     "name": "stdout",
     "output_type": "stream",
     "text": [
      "Относительная разница среднего количество заказов на посетителя группы В к группе А: \n",
      "0.138\n"
     ]
    }
   ],
   "source": [
    "print('Относительная разница среднего количество заказов на посетителя группы В к группе А: ')\n",
    "print(\"{0:.3f}\".format(user_orders_B.mean()/user_orders_A.mean()-1))"
   ]
  },
  {
   "cell_type": "markdown",
   "metadata": {},
   "source": [
    "Видим, что у группы B где-то на 13,8%  среднее количество заказов на посетителя больше, чем у группы А (по неочищенным от выбросов данных). То есть можно сказать, что среднее количество заказов на посетителя у группы В статистически значимо больше, чем у группы А"
   ]
  },
  {
   "cell_type": "markdown",
   "metadata": {},
   "source": [
    "### Статистическая значимость различий в среднем чеке заказа между группами по «сырым» данным"
   ]
  },
  {
   "cell_type": "markdown",
   "metadata": {},
   "source": [
    "Проверим распределение на нормальность критерием Шапиро-Уилка. Нулевая гипотеза: распределение нормальное. Альтернативная гипотеза: распределение не нормальное. \n",
    "\n",
    "Н0: распределение нормальное\n",
    "\n",
    "На:распределение не нормальное\n",
    "\n",
    "alpha = 0,05\n",
    "\n",
    "При уровне статистической значимости 0,05 для распределения выручки отвергаем нулевую гипотезу: распределение не нормальное. Поэтому некорректно будет пользоваться параметрическими тестами"
   ]
  },
  {
   "cell_type": "code",
   "execution_count": 34,
   "metadata": {
    "scrolled": true
   },
   "outputs": [
    {
     "name": "stdout",
     "output_type": "stream",
     "text": [
      "p-значение:  1.739723833199812e-34\n",
      "p-значение:  0.0\n"
     ]
    }
   ],
   "source": [
    "print('p-значение: ', st.shapiro(orders[orders['group'] == 'A']['revenue'])[1])\n",
    "print('p-значение: ', st.shapiro(orders[orders['group'] == 'B']['revenue'])[1])\n"
   ]
  },
  {
   "cell_type": "markdown",
   "metadata": {},
   "source": [
    "Проведем непараметрический тест Уилкоксона-Манна-Уитни\n",
    "\n",
    "Н0:   средние чеки заказов в группах А и В равны. Статистически значимых различий в среднмх чеках заказов на посетителя между группами по сырым данным нет.\n",
    "\n",
    "\n",
    "На:  средние чеки заказов в группах А и В не равны. Статистически значимые различия в среднмх чеках заказов на посетителя между группами по сырым данным есть.\n",
    "\n",
    "\n",
    "alpha = 0,05"
   ]
  },
  {
   "cell_type": "code",
   "execution_count": 57,
   "metadata": {},
   "outputs": [
    {
     "name": "stdout",
     "output_type": "stream",
     "text": [
      "p-значение: \n",
      "0.72929\n"
     ]
    }
   ],
   "source": [
    "print('p-значение: ')\n",
    "print(\"{0:.5f}\".format(st.mannwhitneyu(orders[orders['group'] == 'A']['revenue'],\n",
    "                                       orders[orders['group'] == 'B']['revenue'])[1]))"
   ]
  },
  {
   "cell_type": "markdown",
   "metadata": {},
   "source": [
    "По неочищенным от выбросов данных p-value непараметрического теста Уилкоксона-Манна-Уитни сильно > 0.05 , что означает, что нулевая гипотеза (о равенстве среднего чека заказа в группах А и В) не может быть отвергнута. То есть нет статистически значимого различия средних чеков у групп\n"
   ]
  },
  {
   "cell_type": "code",
   "execution_count": 62,
   "metadata": {
    "scrolled": true
   },
   "outputs": [
    {
     "name": "stdout",
     "output_type": "stream",
     "text": [
      "Относительная разница между группами \n",
      "0.25871\n"
     ]
    }
   ],
   "source": [
    "print('Относительная разница между группами ')\n",
    "print(\"{0:.5f}\".format(orders[orders['group'] == 'B']['revenue'].mean()/\\\n",
    "                       orders[orders['group'] == 'A']['revenue'].mean()-1))"
   ]
  },
  {
   "cell_type": "markdown",
   "metadata": {},
   "source": [
    "Несмотря на то, что вроде средний чек заказов группы В на 25,9% больше, чем у А (по неочищенным данных). Однако эта разница статистически не значима"
   ]
  },
  {
   "cell_type": "markdown",
   "metadata": {},
   "source": [
    "### Статистическая значимость различий в среднем количестве заказов на посетителя между группами по «очищенным» данным\n",
    "\n",
    "Для этого для начала нужно найти выбросы, а затем убрать их из наблюдений. Как было определено ранее, выбросами мы решили считать тех пользователей, которые сделали 4 заказа и выше. А также тех пользователей, которые совершили заказы на сумму  более значения 99-го персентиля"
   ]
  },
  {
   "cell_type": "code",
   "execution_count": 37,
   "metadata": {},
   "outputs": [],
   "source": [
    "outliers = orders[orders['revenue']>np.percentile(orders['revenue'], 99)]['visitor_id']\n",
    "outliers = outliers.append( users_A[users_A['transaction_id']>=np.percentile(orders_by_user['transaction_id'], 99)]['visitor_id'],\n",
    "                           ignore_index = True\n",
    "                          ).drop_duplicates().sort_values()\n"
   ]
  },
  {
   "cell_type": "markdown",
   "metadata": {},
   "source": [
    "теперь уберем выбросы из выборок"
   ]
  },
  {
   "cell_type": "code",
   "execution_count": 38,
   "metadata": {},
   "outputs": [],
   "source": [
    "user_orders_A = pd.concat([\n",
    "    users_A[~users_A['visitor_id'].isin(outliers)]['transaction_id'],\n",
    "    pd.Series(0, \n",
    "              index = np.arange(\n",
    "                  visitors[visitors['group'] == 'A']['visitors'].sum()- len(users_A['transaction_id'])\n",
    "              )\n",
    "             )\n",
    "])\n",
    "\n",
    "user_orders_B = pd.concat([\n",
    "    users_B[~users_B['visitor_id'].isin(outliers)]['transaction_id'],\n",
    "    pd.Series(0, \n",
    "              index = np.arange(\n",
    "                  visitors[visitors['group'] == 'B']['visitors'].sum()- len(users_B['transaction_id'])\n",
    "              )\n",
    "             )\n",
    "])"
   ]
  },
  {
   "cell_type": "markdown",
   "metadata": {},
   "source": [
    "и повторно проведем непараметрический тест Уилкоксона-Манна-Уитни\n",
    "\n",
    "Н0:   среднее количество заказов на посетителя в группах А и В равны.  Статистически значимых различий в среднем количестве заказов на посетителя между группами по очищенным данным нет.\n",
    "\n",
    "На:  среднее количество заказов на посетителя в группах А и В не равны. Статистически значимые различия в среднем количестве заказов на посетителя между группами по очищенным данным есть.\n",
    "\n",
    "alpha = 0,05"
   ]
  },
  {
   "cell_type": "code",
   "execution_count": 63,
   "metadata": {},
   "outputs": [
    {
     "name": "stdout",
     "output_type": "stream",
     "text": [
      "p-значение: \n",
      "0.01410\n"
     ]
    }
   ],
   "source": [
    "print('p-значение: ')\n",
    "print(\"{0:.5f}\".format(st.mannwhitneyu(user_orders_A,user_orders_B)[1]))"
   ]
  },
  {
   "cell_type": "markdown",
   "metadata": {},
   "source": [
    "По очищенным от выбросов данных картина аналогичная, p-value непараметрического теста Уилкоксона-Манна-Уитни < 0.05 (классического уровня значимости), что означает, что нулевая гипотеза (о равенстве среднего количества заказов на посетителя в группах А и В) отвергается в сторону альтернативной (что средние групп не равны).\n"
   ]
  },
  {
   "cell_type": "code",
   "execution_count": 64,
   "metadata": {},
   "outputs": [
    {
     "name": "stdout",
     "output_type": "stream",
     "text": [
      "Относительная разница значений между группами \n",
      "0.167\n"
     ]
    }
   ],
   "source": [
    "print('Относительная разница значений между группами ')\n",
    "print(\"{0:.3f}\".format(user_orders_B.mean()/user_orders_A.mean()-1))"
   ]
  },
  {
   "cell_type": "markdown",
   "metadata": {},
   "source": [
    "Видим, что после исключения аномалий разница даже возрасла. У группы B где-то на 16,7% среднее количество заказов на посетителя больше, чем у группы А (по очищенным от выбросов данных). То есть можно сказать, что среднее количество заказов на посетителя у группы В статистически значимо больше, чем у группы А"
   ]
  },
  {
   "cell_type": "markdown",
   "metadata": {},
   "source": [
    "### Статистическую значимость различий в среднем чеке заказа между группами по «очищенным» данным"
   ]
  },
  {
   "cell_type": "markdown",
   "metadata": {},
   "source": [
    "Н0: средние чеки заказов в группах А и В равны. Статистически значимых различий в среднмх чеках заказов на посетителя между группами по очищенным данным нет.\n",
    "\n",
    "На: средние чеки заказов в группах А и В не равны. Статистически значимые различия в среднмх чеках заказов на посетителя между группами по очищенным данным есть.\n",
    "\n",
    "alpha = 0,05"
   ]
  },
  {
   "cell_type": "code",
   "execution_count": 65,
   "metadata": {},
   "outputs": [
    {
     "name": "stdout",
     "output_type": "stream",
     "text": [
      "p-значение: \n",
      "0.95146\n"
     ]
    }
   ],
   "source": [
    "print('p-значение: ')\n",
    "print(\"{0:.5f}\".format(st.mannwhitneyu(orders[(orders['group'] == 'A') & (~orders['visitor_id'].isin(outliers))]['revenue'],\n",
    "                                       orders[(orders['group'] == 'B') & (~orders['visitor_id'].isin(outliers))]['revenue'])[1]))"
   ]
  },
  {
   "cell_type": "markdown",
   "metadata": {},
   "source": [
    "Видим, что после исключения аномалий общая картина не поменялась. Мы только с еще большей уверенностью не отвергаем нулевую гипотезу о равенстве средних чеков заказов в группах А и В. То есть нет статистически значимого различия средних чеков у групп.\n",
    "\n",
    "Посмотрим теперь на относительную разницу средних чеков групп"
   ]
  },
  {
   "cell_type": "code",
   "execution_count": 66,
   "metadata": {},
   "outputs": [
    {
     "name": "stdout",
     "output_type": "stream",
     "text": [
      "Относительная разница значений между группами: \n",
      "-0.01374\n"
     ]
    }
   ],
   "source": [
    "print('Относительная разница значений между группами: ')\n",
    "print(\"{0:.5f}\".format(orders[(orders['group'] == 'B') & (~orders['visitor_id'].isin(outliers))]['revenue'].mean()/\\\n",
    "                       orders[(orders['group'] == 'A') & (~orders['visitor_id'].isin(outliers))]['revenue'].mean()-1))"
   ]
  },
  {
   "cell_type": "markdown",
   "metadata": {},
   "source": [
    "Видим, что относительная разница мизерная. Более того, после исключения выбросов, средний чек заказов группы В стал меньше, чем у группы А (хоть и совсем на чуть-чуть)"
   ]
  },
  {
   "cell_type": "markdown",
   "metadata": {},
   "source": [
    "### ВЫВОД"
   ]
  },
  {
   "cell_type": "markdown",
   "metadata": {},
   "source": [
    "На начальном этапе анализа  было выявлено, что не выполняется условие проведения А/В теста: есть такие пользователи, которые одновременно попали и в группу А, и в группу В (к примеру, пользователь в id 8300375). \n",
    "\n",
    "Но так как анализ все равно был проведен, из него можно сделать следующие выводы :\n",
    "- Есть статистически значимое различие по среднему количеству заказов на посетителя между группами как по \"сырым\" данным, так и после отсеивания выбросов. У группы В этот показатель статистически значимо выше, чем у группы А\n",
    "- По \"сырым\" и очищенным данным нет статистически значимого различия по среднему чеку между группами\n",
    "- По графикам куммулятивных показателей видно, что они зафиксировались около среднего значения\n",
    "\n",
    "Тест стоит остановить. Группа В победила "
   ]
  }
 ],
 "metadata": {
  "ExecuteTimeLog": [
   {
    "duration": 402,
    "start_time": "2023-04-24T07:52:33.005Z"
   },
   {
    "duration": 48,
    "start_time": "2023-04-24T07:53:33.660Z"
   },
   {
    "duration": 451,
    "start_time": "2023-04-24T07:53:37.839Z"
   },
   {
    "duration": 72,
    "start_time": "2023-04-24T07:57:37.218Z"
   },
   {
    "duration": 13,
    "start_time": "2023-04-24T07:58:14.990Z"
   },
   {
    "duration": 829,
    "start_time": "2023-04-24T07:59:19.604Z"
   },
   {
    "duration": 35,
    "start_time": "2023-04-24T07:59:26.577Z"
   },
   {
    "duration": 30,
    "start_time": "2023-04-24T08:05:36.454Z"
   },
   {
    "duration": 24,
    "start_time": "2023-04-24T08:06:00.050Z"
   },
   {
    "duration": 32,
    "start_time": "2023-04-24T08:06:09.527Z"
   },
   {
    "duration": 4,
    "start_time": "2023-04-24T08:10:17.156Z"
   },
   {
    "duration": 14,
    "start_time": "2023-04-24T08:11:43.398Z"
   },
   {
    "duration": 9,
    "start_time": "2023-04-24T08:16:11.112Z"
   },
   {
    "duration": 9,
    "start_time": "2023-04-24T08:17:16.894Z"
   },
   {
    "duration": 8,
    "start_time": "2023-04-24T08:17:26.185Z"
   },
   {
    "duration": 14,
    "start_time": "2023-04-24T08:19:49.728Z"
   },
   {
    "duration": 138,
    "start_time": "2023-04-24T10:07:16.468Z"
   },
   {
    "duration": 21,
    "start_time": "2023-04-24T10:07:32.546Z"
   },
   {
    "duration": 21,
    "start_time": "2023-04-24T10:09:35.939Z"
   },
   {
    "duration": 3,
    "start_time": "2023-04-24T10:33:23.070Z"
   },
   {
    "duration": 208,
    "start_time": "2023-04-24T10:35:35.636Z"
   },
   {
    "duration": 197,
    "start_time": "2023-04-24T10:36:44.185Z"
   },
   {
    "duration": 2,
    "start_time": "2023-04-24T10:37:36.554Z"
   },
   {
    "duration": 243,
    "start_time": "2023-04-24T10:37:40.323Z"
   },
   {
    "duration": 3,
    "start_time": "2023-04-24T10:37:46.178Z"
   },
   {
    "duration": 211,
    "start_time": "2023-04-24T10:37:50.507Z"
   },
   {
    "duration": 211,
    "start_time": "2023-04-24T10:38:47.826Z"
   },
   {
    "duration": 195,
    "start_time": "2023-04-24T10:38:56.142Z"
   },
   {
    "duration": 196,
    "start_time": "2023-04-24T10:39:10.320Z"
   },
   {
    "duration": 189,
    "start_time": "2023-04-24T10:39:26.809Z"
   },
   {
    "duration": 240,
    "start_time": "2023-04-24T10:40:32.235Z"
   },
   {
    "duration": 2,
    "start_time": "2023-04-24T10:40:36.533Z"
   },
   {
    "duration": 12,
    "start_time": "2023-04-24T10:40:39.524Z"
   },
   {
    "duration": 246,
    "start_time": "2023-04-24T10:41:06.120Z"
   },
   {
    "duration": 845,
    "start_time": "2023-04-24T10:41:22.756Z"
   },
   {
    "duration": 30,
    "start_time": "2023-04-24T10:41:23.604Z"
   },
   {
    "duration": 33,
    "start_time": "2023-04-24T10:41:23.635Z"
   },
   {
    "duration": 3,
    "start_time": "2023-04-24T10:41:23.670Z"
   },
   {
    "duration": 15,
    "start_time": "2023-04-24T10:41:23.675Z"
   },
   {
    "duration": 12,
    "start_time": "2023-04-24T10:41:23.692Z"
   },
   {
    "duration": 53,
    "start_time": "2023-04-24T10:41:23.706Z"
   },
   {
    "duration": 20,
    "start_time": "2023-04-24T10:41:23.761Z"
   },
   {
    "duration": 20,
    "start_time": "2023-04-24T10:41:23.783Z"
   },
   {
    "duration": 6,
    "start_time": "2023-04-24T10:45:46.429Z"
   },
   {
    "duration": 7,
    "start_time": "2023-04-24T10:46:02.504Z"
   },
   {
    "duration": 6,
    "start_time": "2023-04-24T10:46:14.445Z"
   },
   {
    "duration": 92,
    "start_time": "2023-04-24T10:50:00.302Z"
   },
   {
    "duration": 58,
    "start_time": "2023-04-24T10:50:24.783Z"
   },
   {
    "duration": 4,
    "start_time": "2023-04-24T10:50:31.104Z"
   },
   {
    "duration": 14,
    "start_time": "2023-04-24T10:50:45.810Z"
   },
   {
    "duration": 16,
    "start_time": "2023-04-24T10:51:02.280Z"
   },
   {
    "duration": 9,
    "start_time": "2023-04-24T10:51:50.737Z"
   },
   {
    "duration": 14,
    "start_time": "2023-04-24T10:51:59.584Z"
   },
   {
    "duration": 14,
    "start_time": "2023-04-24T10:52:28.022Z"
   },
   {
    "duration": 14,
    "start_time": "2023-04-24T10:52:58.242Z"
   },
   {
    "duration": 13,
    "start_time": "2023-04-24T10:54:07.160Z"
   },
   {
    "duration": 12,
    "start_time": "2023-04-24T10:54:36.576Z"
   },
   {
    "duration": 612,
    "start_time": "2023-04-24T11:00:50.618Z"
   },
   {
    "duration": 146,
    "start_time": "2023-04-24T11:02:28.520Z"
   },
   {
    "duration": 155,
    "start_time": "2023-04-24T11:03:00.204Z"
   },
   {
    "duration": 171,
    "start_time": "2023-04-24T11:04:02.057Z"
   },
   {
    "duration": 157,
    "start_time": "2023-04-24T11:04:06.264Z"
   },
   {
    "duration": 145,
    "start_time": "2023-04-24T11:04:43.417Z"
   },
   {
    "duration": 173,
    "start_time": "2023-04-24T11:04:56.274Z"
   },
   {
    "duration": 416,
    "start_time": "2023-04-24T11:07:07.230Z"
   },
   {
    "duration": 743,
    "start_time": "2023-04-24T11:08:33.814Z"
   },
   {
    "duration": 239,
    "start_time": "2023-04-24T11:09:08.619Z"
   },
   {
    "duration": 154,
    "start_time": "2023-04-24T11:09:44.213Z"
   },
   {
    "duration": 159,
    "start_time": "2023-04-24T11:09:48.287Z"
   },
   {
    "duration": 12,
    "start_time": "2023-04-24T11:10:14.000Z"
   },
   {
    "duration": 15,
    "start_time": "2023-04-24T11:10:57.526Z"
   },
   {
    "duration": 201,
    "start_time": "2023-04-24T11:11:08.950Z"
   },
   {
    "duration": 205,
    "start_time": "2023-04-24T11:11:13.650Z"
   },
   {
    "duration": 184,
    "start_time": "2023-04-24T11:11:19.941Z"
   },
   {
    "duration": 5,
    "start_time": "2023-04-24T11:13:43.345Z"
   },
   {
    "duration": 5,
    "start_time": "2023-04-24T11:14:35.513Z"
   },
   {
    "duration": 6,
    "start_time": "2023-04-24T11:14:48.793Z"
   },
   {
    "duration": 8,
    "start_time": "2023-04-24T11:15:56.751Z"
   },
   {
    "duration": 8,
    "start_time": "2023-04-24T11:16:18.118Z"
   },
   {
    "duration": 13,
    "start_time": "2023-04-24T11:16:43.790Z"
   },
   {
    "duration": 210,
    "start_time": "2023-04-24T11:20:49.985Z"
   },
   {
    "duration": 161,
    "start_time": "2023-04-24T11:22:50.528Z"
   },
   {
    "duration": 11,
    "start_time": "2023-04-24T11:23:29.856Z"
   },
   {
    "duration": 245,
    "start_time": "2023-04-24T11:23:34.338Z"
   },
   {
    "duration": 1354,
    "start_time": "2023-04-25T08:35:05.875Z"
   },
   {
    "duration": 85,
    "start_time": "2023-04-25T08:35:07.232Z"
   },
   {
    "duration": 44,
    "start_time": "2023-04-25T08:35:07.320Z"
   },
   {
    "duration": 14,
    "start_time": "2023-04-25T08:35:07.367Z"
   },
   {
    "duration": 48,
    "start_time": "2023-04-25T08:35:07.384Z"
   },
   {
    "duration": 28,
    "start_time": "2023-04-25T08:35:07.434Z"
   },
   {
    "duration": 175,
    "start_time": "2023-04-25T08:35:07.464Z"
   },
   {
    "duration": 24,
    "start_time": "2023-04-25T08:35:07.641Z"
   },
   {
    "duration": 52,
    "start_time": "2023-04-25T08:35:07.667Z"
   },
   {
    "duration": 29,
    "start_time": "2023-04-25T08:35:07.721Z"
   },
   {
    "duration": 40,
    "start_time": "2023-04-25T08:35:07.752Z"
   },
   {
    "duration": 192,
    "start_time": "2023-04-25T08:35:07.794Z"
   },
   {
    "duration": 314,
    "start_time": "2023-04-25T08:35:07.988Z"
   },
   {
    "duration": 7,
    "start_time": "2023-04-25T09:03:32.497Z"
   },
   {
    "duration": 8,
    "start_time": "2023-04-25T09:04:27.947Z"
   },
   {
    "duration": 8,
    "start_time": "2023-04-25T09:04:51.434Z"
   },
   {
    "duration": 8,
    "start_time": "2023-04-25T09:06:06.345Z"
   },
   {
    "duration": 8,
    "start_time": "2023-04-25T09:08:41.400Z"
   },
   {
    "duration": 185,
    "start_time": "2023-04-25T11:04:13.072Z"
   },
   {
    "duration": 216,
    "start_time": "2023-04-25T11:04:22.752Z"
   },
   {
    "duration": 162,
    "start_time": "2023-04-25T11:05:17.252Z"
   },
   {
    "duration": 191,
    "start_time": "2023-04-25T11:05:21.988Z"
   },
   {
    "duration": 165,
    "start_time": "2023-04-25T11:06:33.239Z"
   },
   {
    "duration": 216,
    "start_time": "2023-04-25T11:07:12.009Z"
   },
   {
    "duration": 286,
    "start_time": "2023-04-25T11:24:04.085Z"
   },
   {
    "duration": 185,
    "start_time": "2023-04-25T11:24:09.375Z"
   },
   {
    "duration": 295,
    "start_time": "2023-04-25T11:24:40.736Z"
   },
   {
    "duration": 6,
    "start_time": "2023-04-25T11:25:08.023Z"
   },
   {
    "duration": 6,
    "start_time": "2023-04-25T11:25:16.363Z"
   },
   {
    "duration": 8,
    "start_time": "2023-04-25T11:25:40.876Z"
   },
   {
    "duration": 257,
    "start_time": "2023-04-25T11:25:51.166Z"
   },
   {
    "duration": 12,
    "start_time": "2023-04-25T11:26:06.375Z"
   },
   {
    "duration": 304,
    "start_time": "2023-04-25T11:32:23.770Z"
   },
   {
    "duration": 408,
    "start_time": "2023-04-25T11:33:08.138Z"
   },
   {
    "duration": 135,
    "start_time": "2023-04-25T11:59:54.591Z"
   },
   {
    "duration": 144,
    "start_time": "2023-04-25T12:00:15.149Z"
   },
   {
    "duration": 129,
    "start_time": "2023-04-25T12:00:47.789Z"
   },
   {
    "duration": 1224,
    "start_time": "2023-04-25T12:01:19.694Z"
   },
   {
    "duration": 32,
    "start_time": "2023-04-25T12:01:20.921Z"
   },
   {
    "duration": 52,
    "start_time": "2023-04-25T12:01:20.955Z"
   },
   {
    "duration": 5,
    "start_time": "2023-04-25T12:01:21.009Z"
   },
   {
    "duration": 55,
    "start_time": "2023-04-25T12:01:21.020Z"
   },
   {
    "duration": 38,
    "start_time": "2023-04-25T12:01:21.077Z"
   },
   {
    "duration": 64,
    "start_time": "2023-04-25T12:01:21.118Z"
   },
   {
    "duration": 34,
    "start_time": "2023-04-25T12:01:21.184Z"
   },
   {
    "duration": 31,
    "start_time": "2023-04-25T12:01:21.220Z"
   },
   {
    "duration": 28,
    "start_time": "2023-04-25T12:01:21.254Z"
   },
   {
    "duration": 46,
    "start_time": "2023-04-25T12:01:21.285Z"
   },
   {
    "duration": 242,
    "start_time": "2023-04-25T12:01:21.333Z"
   },
   {
    "duration": 393,
    "start_time": "2023-04-25T12:01:21.578Z"
   },
   {
    "duration": 255,
    "start_time": "2023-04-25T12:01:21.974Z"
   },
   {
    "duration": 366,
    "start_time": "2023-04-25T12:01:22.232Z"
   },
   {
    "duration": 1601,
    "start_time": "2023-04-25T12:01:22.600Z"
   },
   {
    "duration": 1,
    "start_time": "2023-04-25T12:01:24.203Z"
   },
   {
    "duration": 0,
    "start_time": "2023-04-25T12:01:24.205Z"
   },
   {
    "duration": 140,
    "start_time": "2023-04-25T12:01:29.822Z"
   },
   {
    "duration": 277,
    "start_time": "2023-04-25T12:03:47.241Z"
   },
   {
    "duration": 328,
    "start_time": "2023-04-25T12:07:40.405Z"
   },
   {
    "duration": 10,
    "start_time": "2023-04-25T12:07:55.426Z"
   },
   {
    "duration": 202,
    "start_time": "2023-04-25T12:11:41.885Z"
   },
   {
    "duration": 172,
    "start_time": "2023-04-25T12:12:04.955Z"
   },
   {
    "duration": 186,
    "start_time": "2023-04-25T12:12:33.603Z"
   },
   {
    "duration": 286,
    "start_time": "2023-04-25T12:12:45.319Z"
   },
   {
    "duration": 227,
    "start_time": "2023-04-25T12:13:08.742Z"
   },
   {
    "duration": 1380,
    "start_time": "2023-04-26T17:45:09.399Z"
   },
   {
    "duration": 79,
    "start_time": "2023-04-26T17:45:10.781Z"
   },
   {
    "duration": 28,
    "start_time": "2023-04-26T17:45:10.861Z"
   },
   {
    "duration": 3,
    "start_time": "2023-04-26T17:45:10.890Z"
   },
   {
    "duration": 14,
    "start_time": "2023-04-26T17:45:10.894Z"
   },
   {
    "duration": 10,
    "start_time": "2023-04-26T17:45:10.910Z"
   },
   {
    "duration": 222,
    "start_time": "2023-04-26T17:45:10.922Z"
   },
   {
    "duration": 20,
    "start_time": "2023-04-26T17:45:11.146Z"
   },
   {
    "duration": 16,
    "start_time": "2023-04-26T17:45:11.167Z"
   },
   {
    "duration": 9,
    "start_time": "2023-04-26T17:45:11.184Z"
   },
   {
    "duration": 8,
    "start_time": "2023-04-26T17:45:11.194Z"
   },
   {
    "duration": 287,
    "start_time": "2023-04-26T17:45:11.204Z"
   },
   {
    "duration": 279,
    "start_time": "2023-04-26T17:45:11.492Z"
   },
   {
    "duration": 193,
    "start_time": "2023-04-26T17:45:11.773Z"
   },
   {
    "duration": 322,
    "start_time": "2023-04-26T17:45:11.967Z"
   },
   {
    "duration": 9,
    "start_time": "2023-04-26T17:45:12.291Z"
   },
   {
    "duration": 209,
    "start_time": "2023-04-26T17:45:12.302Z"
   },
   {
    "duration": 8,
    "start_time": "2023-04-26T17:45:12.513Z"
   },
   {
    "duration": 195,
    "start_time": "2023-04-26T17:52:14.607Z"
   },
   {
    "duration": 300,
    "start_time": "2023-04-26T17:53:43.164Z"
   },
   {
    "duration": 111,
    "start_time": "2023-04-26T18:02:10.604Z"
   },
   {
    "duration": 10,
    "start_time": "2023-04-26T18:02:37.503Z"
   },
   {
    "duration": 10,
    "start_time": "2023-04-26T18:03:26.183Z"
   },
   {
    "duration": 10,
    "start_time": "2023-04-26T18:03:35.158Z"
   },
   {
    "duration": 9,
    "start_time": "2023-04-26T18:03:54.169Z"
   },
   {
    "duration": 106,
    "start_time": "2023-04-26T18:06:29.497Z"
   },
   {
    "duration": 127,
    "start_time": "2023-04-26T18:06:46.158Z"
   },
   {
    "duration": 225,
    "start_time": "2023-04-26T18:07:12.790Z"
   },
   {
    "duration": 132,
    "start_time": "2023-04-26T18:08:55.672Z"
   },
   {
    "duration": 6,
    "start_time": "2023-04-26T18:13:32.020Z"
   },
   {
    "duration": 5,
    "start_time": "2023-04-26T18:13:54.247Z"
   },
   {
    "duration": 4,
    "start_time": "2023-04-26T18:14:09.997Z"
   },
   {
    "duration": 124,
    "start_time": "2023-04-26T18:20:45.649Z"
   },
   {
    "duration": 116,
    "start_time": "2023-04-26T18:21:10.372Z"
   },
   {
    "duration": 154,
    "start_time": "2023-04-26T18:21:46.006Z"
   },
   {
    "duration": 191,
    "start_time": "2023-04-26T18:26:07.820Z"
   },
   {
    "duration": 165,
    "start_time": "2023-04-26T18:26:16.786Z"
   },
   {
    "duration": 156,
    "start_time": "2023-04-26T18:26:25.049Z"
   },
   {
    "duration": 205,
    "start_time": "2023-04-26T18:26:56.732Z"
   },
   {
    "duration": 181,
    "start_time": "2023-04-26T18:27:02.705Z"
   },
   {
    "duration": 6,
    "start_time": "2023-04-26T18:30:06.942Z"
   },
   {
    "duration": 9,
    "start_time": "2023-04-26T18:31:44.952Z"
   },
   {
    "duration": 8,
    "start_time": "2023-04-26T18:31:53.294Z"
   },
   {
    "duration": 7,
    "start_time": "2023-04-26T18:46:26.122Z"
   },
   {
    "duration": 21,
    "start_time": "2023-04-26T18:47:14.433Z"
   },
   {
    "duration": 84,
    "start_time": "2023-04-26T18:55:11.263Z"
   },
   {
    "duration": 127,
    "start_time": "2023-04-26T18:55:22.107Z"
   },
   {
    "duration": 19,
    "start_time": "2023-04-26T18:55:27.827Z"
   },
   {
    "duration": 13,
    "start_time": "2023-04-26T18:57:22.690Z"
   },
   {
    "duration": 21,
    "start_time": "2023-04-26T18:57:29.024Z"
   },
   {
    "duration": 21,
    "start_time": "2023-04-26T18:57:35.762Z"
   },
   {
    "duration": 21,
    "start_time": "2023-04-26T18:57:59.526Z"
   },
   {
    "duration": 14,
    "start_time": "2023-04-26T18:58:55.195Z"
   },
   {
    "duration": 16,
    "start_time": "2023-04-26T19:00:21.152Z"
   },
   {
    "duration": 40,
    "start_time": "2023-04-26T19:01:56.719Z"
   },
   {
    "duration": 4,
    "start_time": "2023-04-26T19:09:44.812Z"
   },
   {
    "duration": 9,
    "start_time": "2023-04-26T19:54:24.319Z"
   },
   {
    "duration": 4,
    "start_time": "2023-04-26T20:04:52.471Z"
   },
   {
    "duration": 6,
    "start_time": "2023-04-26T20:05:26.671Z"
   },
   {
    "duration": 2928,
    "start_time": "2023-04-26T20:08:05.314Z"
   },
   {
    "duration": 6,
    "start_time": "2023-04-26T20:08:32.138Z"
   },
   {
    "duration": 6,
    "start_time": "2023-04-26T20:09:38.990Z"
   },
   {
    "duration": 6,
    "start_time": "2023-04-26T20:10:05.888Z"
   },
   {
    "duration": 7,
    "start_time": "2023-04-26T20:10:12.531Z"
   },
   {
    "duration": 8,
    "start_time": "2023-04-26T20:10:46.439Z"
   },
   {
    "duration": 9,
    "start_time": "2023-04-26T20:11:20.814Z"
   },
   {
    "duration": 9,
    "start_time": "2023-04-26T20:12:00.992Z"
   },
   {
    "duration": 9,
    "start_time": "2023-04-26T20:12:17.647Z"
   },
   {
    "duration": 10,
    "start_time": "2023-04-26T20:12:42.907Z"
   },
   {
    "duration": 12,
    "start_time": "2023-04-26T20:14:09.904Z"
   },
   {
    "duration": 10,
    "start_time": "2023-04-26T20:14:17.411Z"
   },
   {
    "duration": 9,
    "start_time": "2023-04-26T20:14:24.631Z"
   },
   {
    "duration": 7,
    "start_time": "2023-04-26T20:14:33.458Z"
   },
   {
    "duration": 8,
    "start_time": "2023-04-26T20:14:36.891Z"
   },
   {
    "duration": 7,
    "start_time": "2023-04-26T20:17:32.989Z"
   },
   {
    "duration": 7,
    "start_time": "2023-04-26T20:18:22.343Z"
   },
   {
    "duration": 1263,
    "start_time": "2023-04-26T20:21:02.604Z"
   },
   {
    "duration": 13,
    "start_time": "2023-04-26T20:21:10.365Z"
   },
   {
    "duration": 9,
    "start_time": "2023-04-26T20:22:04.930Z"
   },
   {
    "duration": 10,
    "start_time": "2023-04-26T20:22:11.694Z"
   },
   {
    "duration": 6,
    "start_time": "2023-04-26T20:23:01.918Z"
   },
   {
    "duration": 8,
    "start_time": "2023-04-26T20:23:38.803Z"
   },
   {
    "duration": 17,
    "start_time": "2023-04-26T20:23:50.701Z"
   },
   {
    "duration": 17,
    "start_time": "2023-04-26T20:24:18.999Z"
   },
   {
    "duration": 15,
    "start_time": "2023-04-26T20:25:18.185Z"
   },
   {
    "duration": 9,
    "start_time": "2023-04-26T20:25:25.362Z"
   },
   {
    "duration": 10,
    "start_time": "2023-04-26T20:26:02.594Z"
   },
   {
    "duration": 25,
    "start_time": "2023-04-26T20:26:57.759Z"
   },
   {
    "duration": 4,
    "start_time": "2023-04-26T20:28:06.202Z"
   },
   {
    "duration": 10,
    "start_time": "2023-04-26T20:31:56.170Z"
   },
   {
    "duration": 14,
    "start_time": "2023-04-26T20:32:10.233Z"
   },
   {
    "duration": 14,
    "start_time": "2023-04-26T20:34:44.625Z"
   },
   {
    "duration": 7,
    "start_time": "2023-04-26T20:34:54.624Z"
   },
   {
    "duration": 7,
    "start_time": "2023-04-26T20:37:46.879Z"
   },
   {
    "duration": 7,
    "start_time": "2023-04-26T20:39:17.319Z"
   },
   {
    "duration": 5,
    "start_time": "2023-04-26T20:39:25.905Z"
   },
   {
    "duration": 11,
    "start_time": "2023-04-26T20:39:43.267Z"
   },
   {
    "duration": 9,
    "start_time": "2023-04-26T20:39:52.146Z"
   },
   {
    "duration": 7,
    "start_time": "2023-04-26T21:11:18.429Z"
   },
   {
    "duration": 16,
    "start_time": "2023-04-26T21:13:06.632Z"
   },
   {
    "duration": 8,
    "start_time": "2023-04-26T21:13:17.819Z"
   },
   {
    "duration": 8,
    "start_time": "2023-04-26T21:13:28.596Z"
   },
   {
    "duration": 10,
    "start_time": "2023-04-26T21:13:46.966Z"
   },
   {
    "duration": 11,
    "start_time": "2023-04-26T21:14:12.765Z"
   },
   {
    "duration": 9,
    "start_time": "2023-04-26T21:14:59.670Z"
   },
   {
    "duration": 15,
    "start_time": "2023-04-26T21:15:18.531Z"
   },
   {
    "duration": 7,
    "start_time": "2023-04-26T21:19:15.353Z"
   },
   {
    "duration": 10,
    "start_time": "2023-04-26T21:19:30.688Z"
   },
   {
    "duration": 15,
    "start_time": "2023-04-26T21:20:30.261Z"
   },
   {
    "duration": 8,
    "start_time": "2023-04-26T21:20:44.221Z"
   },
   {
    "duration": 1164,
    "start_time": "2023-04-26T21:21:21.153Z"
   },
   {
    "duration": 31,
    "start_time": "2023-04-26T21:21:22.318Z"
   },
   {
    "duration": 30,
    "start_time": "2023-04-26T21:21:22.351Z"
   },
   {
    "duration": 3,
    "start_time": "2023-04-26T21:21:22.382Z"
   },
   {
    "duration": 19,
    "start_time": "2023-04-26T21:21:22.386Z"
   },
   {
    "duration": 11,
    "start_time": "2023-04-26T21:21:22.406Z"
   },
   {
    "duration": 56,
    "start_time": "2023-04-26T21:21:22.419Z"
   },
   {
    "duration": 20,
    "start_time": "2023-04-26T21:21:22.477Z"
   },
   {
    "duration": 12,
    "start_time": "2023-04-26T21:21:22.499Z"
   },
   {
    "duration": 8,
    "start_time": "2023-04-26T21:21:22.512Z"
   },
   {
    "duration": 25,
    "start_time": "2023-04-26T21:21:22.521Z"
   },
   {
    "duration": 13,
    "start_time": "2023-04-26T21:21:22.547Z"
   },
   {
    "duration": 10,
    "start_time": "2023-04-26T21:21:22.561Z"
   },
   {
    "duration": 8,
    "start_time": "2023-04-26T21:21:22.573Z"
   },
   {
    "duration": 276,
    "start_time": "2023-04-26T21:21:22.583Z"
   },
   {
    "duration": 265,
    "start_time": "2023-04-26T21:21:22.860Z"
   },
   {
    "duration": 199,
    "start_time": "2023-04-26T21:21:23.127Z"
   },
   {
    "duration": 317,
    "start_time": "2023-04-26T21:21:23.328Z"
   },
   {
    "duration": 9,
    "start_time": "2023-04-26T21:21:23.647Z"
   },
   {
    "duration": 213,
    "start_time": "2023-04-26T21:21:23.658Z"
   },
   {
    "duration": 282,
    "start_time": "2023-04-26T21:21:23.873Z"
   },
   {
    "duration": 116,
    "start_time": "2023-04-26T21:21:24.157Z"
   },
   {
    "duration": 4,
    "start_time": "2023-04-26T21:21:24.274Z"
   },
   {
    "duration": 134,
    "start_time": "2023-04-26T21:21:24.280Z"
   },
   {
    "duration": 149,
    "start_time": "2023-04-26T21:21:24.415Z"
   },
   {
    "duration": 5,
    "start_time": "2023-04-26T21:21:24.565Z"
   },
   {
    "duration": 96,
    "start_time": "2023-04-26T21:21:24.571Z"
   },
   {
    "duration": 20,
    "start_time": "2023-04-26T21:21:24.668Z"
   },
   {
    "duration": 3,
    "start_time": "2023-04-26T21:21:24.690Z"
   },
   {
    "duration": 8,
    "start_time": "2023-04-26T21:21:24.694Z"
   },
   {
    "duration": 6,
    "start_time": "2023-04-26T21:21:24.703Z"
   },
   {
    "duration": 8,
    "start_time": "2023-04-26T21:21:24.733Z"
   },
   {
    "duration": 16,
    "start_time": "2023-04-26T21:21:24.743Z"
   },
   {
    "duration": 26,
    "start_time": "2023-04-26T21:21:24.761Z"
   },
   {
    "duration": 3,
    "start_time": "2023-04-26T21:21:24.788Z"
   },
   {
    "duration": 10,
    "start_time": "2023-04-26T21:21:24.793Z"
   },
   {
    "duration": 6,
    "start_time": "2023-04-26T21:21:24.804Z"
   },
   {
    "duration": 25,
    "start_time": "2023-04-26T21:21:24.811Z"
   },
   {
    "duration": 9,
    "start_time": "2023-04-26T21:21:24.838Z"
   },
   {
    "duration": 80,
    "start_time": "2023-04-26T21:22:57.194Z"
   },
   {
    "duration": 544,
    "start_time": "2023-04-26T21:23:07.150Z"
   },
   {
    "duration": 5,
    "start_time": "2023-04-26T21:25:40.953Z"
   },
   {
    "duration": 85,
    "start_time": "2023-04-26T21:26:06.084Z"
   },
   {
    "duration": 8,
    "start_time": "2023-04-26T21:26:15.478Z"
   },
   {
    "duration": 8,
    "start_time": "2023-04-26T21:26:25.586Z"
   },
   {
    "duration": 7,
    "start_time": "2023-04-26T21:27:43.947Z"
   },
   {
    "duration": 7,
    "start_time": "2023-04-26T21:28:15.097Z"
   },
   {
    "duration": 11,
    "start_time": "2023-04-26T21:28:25.085Z"
   },
   {
    "duration": 9,
    "start_time": "2023-04-26T21:28:33.046Z"
   },
   {
    "duration": 6,
    "start_time": "2023-04-26T21:30:04.577Z"
   },
   {
    "duration": 8,
    "start_time": "2023-04-26T21:30:09.060Z"
   },
   {
    "duration": 1030,
    "start_time": "2023-04-27T02:31:02.358Z"
   },
   {
    "duration": 67,
    "start_time": "2023-04-27T02:31:03.390Z"
   },
   {
    "duration": 31,
    "start_time": "2023-04-27T02:31:03.458Z"
   },
   {
    "duration": 29,
    "start_time": "2023-04-27T02:31:03.491Z"
   },
   {
    "duration": 54,
    "start_time": "2023-04-27T02:31:03.522Z"
   },
   {
    "duration": 29,
    "start_time": "2023-04-27T02:31:03.578Z"
   },
   {
    "duration": 153,
    "start_time": "2023-04-27T02:31:03.609Z"
   },
   {
    "duration": 20,
    "start_time": "2023-04-27T02:31:03.763Z"
   },
   {
    "duration": 20,
    "start_time": "2023-04-27T02:31:03.785Z"
   },
   {
    "duration": 15,
    "start_time": "2023-04-27T02:31:03.807Z"
   },
   {
    "duration": 26,
    "start_time": "2023-04-27T02:31:03.823Z"
   },
   {
    "duration": 71,
    "start_time": "2023-04-27T02:31:03.851Z"
   },
   {
    "duration": 17,
    "start_time": "2023-04-27T02:31:03.923Z"
   },
   {
    "duration": 22,
    "start_time": "2023-04-27T02:31:03.943Z"
   },
   {
    "duration": 7,
    "start_time": "2023-04-27T02:31:03.966Z"
   },
   {
    "duration": 16,
    "start_time": "2023-04-27T02:31:03.974Z"
   },
   {
    "duration": 287,
    "start_time": "2023-04-27T02:31:03.991Z"
   },
   {
    "duration": 315,
    "start_time": "2023-04-27T02:31:04.279Z"
   },
   {
    "duration": 282,
    "start_time": "2023-04-27T02:31:04.597Z"
   },
   {
    "duration": 305,
    "start_time": "2023-04-27T02:31:04.880Z"
   },
   {
    "duration": 11,
    "start_time": "2023-04-27T02:31:05.187Z"
   },
   {
    "duration": 255,
    "start_time": "2023-04-27T02:31:05.200Z"
   },
   {
    "duration": 284,
    "start_time": "2023-04-27T02:31:05.457Z"
   },
   {
    "duration": 120,
    "start_time": "2023-04-27T02:31:05.743Z"
   },
   {
    "duration": 4,
    "start_time": "2023-04-27T02:31:05.865Z"
   },
   {
    "duration": 134,
    "start_time": "2023-04-27T02:31:05.871Z"
   },
   {
    "duration": 138,
    "start_time": "2023-04-27T02:31:06.006Z"
   },
   {
    "duration": 4,
    "start_time": "2023-04-27T02:31:06.146Z"
   },
   {
    "duration": 92,
    "start_time": "2023-04-27T02:31:06.151Z"
   },
   {
    "duration": 6,
    "start_time": "2023-04-27T02:31:06.244Z"
   },
   {
    "duration": 23,
    "start_time": "2023-04-27T02:31:06.251Z"
   },
   {
    "duration": 4,
    "start_time": "2023-04-27T02:31:06.276Z"
   },
   {
    "duration": 31,
    "start_time": "2023-04-27T02:31:06.281Z"
   },
   {
    "duration": 13,
    "start_time": "2023-04-27T02:31:06.313Z"
   },
   {
    "duration": 10,
    "start_time": "2023-04-27T02:31:06.328Z"
   },
   {
    "duration": 12,
    "start_time": "2023-04-27T02:31:06.339Z"
   },
   {
    "duration": 15,
    "start_time": "2023-04-27T02:31:06.352Z"
   },
   {
    "duration": 49,
    "start_time": "2023-04-27T02:31:06.369Z"
   },
   {
    "duration": 3,
    "start_time": "2023-04-27T02:31:06.420Z"
   },
   {
    "duration": 9,
    "start_time": "2023-04-27T02:31:06.425Z"
   },
   {
    "duration": 6,
    "start_time": "2023-04-27T02:31:06.438Z"
   },
   {
    "duration": 7,
    "start_time": "2023-04-27T02:35:02.259Z"
   },
   {
    "duration": 1236,
    "start_time": "2023-04-27T08:03:00.330Z"
   },
   {
    "duration": 77,
    "start_time": "2023-04-27T08:03:01.568Z"
   },
   {
    "duration": 32,
    "start_time": "2023-04-27T08:03:01.647Z"
   },
   {
    "duration": 14,
    "start_time": "2023-04-27T08:03:01.681Z"
   },
   {
    "duration": 30,
    "start_time": "2023-04-27T08:03:01.697Z"
   },
   {
    "duration": 24,
    "start_time": "2023-04-27T08:03:01.729Z"
   },
   {
    "duration": 160,
    "start_time": "2023-04-27T08:03:01.755Z"
   },
   {
    "duration": 20,
    "start_time": "2023-04-27T08:03:01.917Z"
   },
   {
    "duration": 27,
    "start_time": "2023-04-27T08:03:01.939Z"
   },
   {
    "duration": 13,
    "start_time": "2023-04-27T08:03:01.969Z"
   },
   {
    "duration": 34,
    "start_time": "2023-04-27T08:03:01.983Z"
   },
   {
    "duration": 52,
    "start_time": "2023-04-27T08:03:02.018Z"
   },
   {
    "duration": 47,
    "start_time": "2023-04-27T08:03:02.071Z"
   },
   {
    "duration": 23,
    "start_time": "2023-04-27T08:03:02.120Z"
   },
   {
    "duration": 12,
    "start_time": "2023-04-27T08:03:02.144Z"
   },
   {
    "duration": 13,
    "start_time": "2023-04-27T08:03:02.157Z"
   },
   {
    "duration": 267,
    "start_time": "2023-04-27T08:03:02.172Z"
   },
   {
    "duration": 284,
    "start_time": "2023-04-27T08:03:02.441Z"
   },
   {
    "duration": 195,
    "start_time": "2023-04-27T08:03:02.727Z"
   },
   {
    "duration": 343,
    "start_time": "2023-04-27T08:03:02.924Z"
   },
   {
    "duration": 8,
    "start_time": "2023-04-27T08:03:03.268Z"
   },
   {
    "duration": 217,
    "start_time": "2023-04-27T08:03:03.278Z"
   },
   {
    "duration": 292,
    "start_time": "2023-04-27T08:03:03.497Z"
   },
   {
    "duration": 127,
    "start_time": "2023-04-27T08:03:03.790Z"
   },
   {
    "duration": 4,
    "start_time": "2023-04-27T08:03:03.919Z"
   },
   {
    "duration": 141,
    "start_time": "2023-04-27T08:03:03.925Z"
   },
   {
    "duration": 169,
    "start_time": "2023-04-27T08:03:04.067Z"
   },
   {
    "duration": 6,
    "start_time": "2023-04-27T08:03:04.241Z"
   },
   {
    "duration": 114,
    "start_time": "2023-04-27T08:03:04.249Z"
   },
   {
    "duration": 6,
    "start_time": "2023-04-27T08:03:04.364Z"
   },
   {
    "duration": 31,
    "start_time": "2023-04-27T08:03:04.371Z"
   },
   {
    "duration": 9,
    "start_time": "2023-04-27T08:03:04.403Z"
   },
   {
    "duration": 21,
    "start_time": "2023-04-27T08:03:04.414Z"
   },
   {
    "duration": 9,
    "start_time": "2023-04-27T08:03:04.437Z"
   },
   {
    "duration": 6,
    "start_time": "2023-04-27T08:03:04.450Z"
   },
   {
    "duration": 9,
    "start_time": "2023-04-27T08:03:04.457Z"
   },
   {
    "duration": 22,
    "start_time": "2023-04-27T08:03:04.468Z"
   },
   {
    "duration": 29,
    "start_time": "2023-04-27T08:03:04.492Z"
   },
   {
    "duration": 4,
    "start_time": "2023-04-27T08:03:04.523Z"
   },
   {
    "duration": 8,
    "start_time": "2023-04-27T08:03:04.529Z"
   },
   {
    "duration": 7,
    "start_time": "2023-04-27T08:03:04.538Z"
   },
   {
    "duration": 188,
    "start_time": "2023-04-27T08:03:47.824Z"
   },
   {
    "duration": 194,
    "start_time": "2023-04-27T08:04:20.523Z"
   },
   {
    "duration": 288,
    "start_time": "2023-04-27T08:05:31.043Z"
   },
   {
    "duration": 218,
    "start_time": "2023-04-27T08:06:13.184Z"
   },
   {
    "duration": 283,
    "start_time": "2023-04-27T08:08:04.027Z"
   },
   {
    "duration": 137,
    "start_time": "2023-04-27T08:08:58.236Z"
   },
   {
    "duration": 137,
    "start_time": "2023-04-27T08:09:29.410Z"
   },
   {
    "duration": 158,
    "start_time": "2023-04-27T08:09:52.374Z"
   },
   {
    "duration": 159,
    "start_time": "2023-04-27T08:10:01.434Z"
   },
   {
    "duration": 4,
    "start_time": "2023-04-27T08:12:45.154Z"
   },
   {
    "duration": 4,
    "start_time": "2023-04-27T08:13:45.166Z"
   },
   {
    "duration": 24,
    "start_time": "2023-04-27T08:13:57.005Z"
   },
   {
    "duration": 1374,
    "start_time": "2023-04-27T11:30:37.028Z"
   },
   {
    "duration": 103,
    "start_time": "2023-04-27T11:30:38.405Z"
   },
   {
    "duration": 30,
    "start_time": "2023-04-27T11:30:38.509Z"
   },
   {
    "duration": 3,
    "start_time": "2023-04-27T11:30:38.541Z"
   },
   {
    "duration": 12,
    "start_time": "2023-04-27T11:30:38.546Z"
   },
   {
    "duration": 11,
    "start_time": "2023-04-27T11:30:38.560Z"
   },
   {
    "duration": 185,
    "start_time": "2023-04-27T11:30:38.578Z"
   },
   {
    "duration": 36,
    "start_time": "2023-04-27T11:30:38.765Z"
   },
   {
    "duration": 27,
    "start_time": "2023-04-27T11:30:38.805Z"
   },
   {
    "duration": 15,
    "start_time": "2023-04-27T11:30:38.834Z"
   },
   {
    "duration": 10,
    "start_time": "2023-04-27T11:30:38.852Z"
   },
   {
    "duration": 43,
    "start_time": "2023-04-27T11:30:38.864Z"
   },
   {
    "duration": 16,
    "start_time": "2023-04-27T11:30:38.910Z"
   },
   {
    "duration": 13,
    "start_time": "2023-04-27T11:30:38.930Z"
   },
   {
    "duration": 8,
    "start_time": "2023-04-27T11:30:38.945Z"
   },
   {
    "duration": 11,
    "start_time": "2023-04-27T11:30:38.954Z"
   },
   {
    "duration": 327,
    "start_time": "2023-04-27T11:30:38.967Z"
   },
   {
    "duration": 290,
    "start_time": "2023-04-27T11:30:39.296Z"
   },
   {
    "duration": 199,
    "start_time": "2023-04-27T11:30:39.588Z"
   },
   {
    "duration": 342,
    "start_time": "2023-04-27T11:30:39.789Z"
   },
   {
    "duration": 8,
    "start_time": "2023-04-27T11:30:40.133Z"
   },
   {
    "duration": 242,
    "start_time": "2023-04-27T11:30:40.142Z"
   },
   {
    "duration": 302,
    "start_time": "2023-04-27T11:30:40.391Z"
   },
   {
    "duration": 153,
    "start_time": "2023-04-27T11:30:40.695Z"
   },
   {
    "duration": 5,
    "start_time": "2023-04-27T11:30:40.850Z"
   },
   {
    "duration": 211,
    "start_time": "2023-04-27T11:30:40.857Z"
   },
   {
    "duration": 171,
    "start_time": "2023-04-27T11:30:41.074Z"
   },
   {
    "duration": 5,
    "start_time": "2023-04-27T11:30:41.247Z"
   },
   {
    "duration": 92,
    "start_time": "2023-04-27T11:30:41.254Z"
   },
   {
    "duration": 9,
    "start_time": "2023-04-27T11:30:41.348Z"
   },
   {
    "duration": 37,
    "start_time": "2023-04-27T11:30:41.359Z"
   },
   {
    "duration": 4,
    "start_time": "2023-04-27T11:30:41.397Z"
   },
   {
    "duration": 39,
    "start_time": "2023-04-27T11:30:41.403Z"
   },
   {
    "duration": 7,
    "start_time": "2023-04-27T11:30:41.445Z"
   },
   {
    "duration": 10,
    "start_time": "2023-04-27T11:30:41.454Z"
   },
   {
    "duration": 10,
    "start_time": "2023-04-27T11:30:41.465Z"
   },
   {
    "duration": 27,
    "start_time": "2023-04-27T11:30:41.477Z"
   },
   {
    "duration": 22,
    "start_time": "2023-04-27T11:30:41.505Z"
   },
   {
    "duration": 4,
    "start_time": "2023-04-27T11:30:41.528Z"
   },
   {
    "duration": 13,
    "start_time": "2023-04-27T11:30:41.533Z"
   },
   {
    "duration": 6,
    "start_time": "2023-04-27T11:30:41.549Z"
   },
   {
    "duration": 6,
    "start_time": "2023-04-27T11:32:54.812Z"
   },
   {
    "duration": 16,
    "start_time": "2023-04-27T11:33:03.789Z"
   },
   {
    "duration": 11,
    "start_time": "2023-04-27T11:33:30.318Z"
   },
   {
    "duration": 6,
    "start_time": "2023-04-27T11:50:29.163Z"
   },
   {
    "duration": 7,
    "start_time": "2023-04-27T11:51:09.713Z"
   },
   {
    "duration": 8,
    "start_time": "2023-04-27T11:51:19.032Z"
   },
   {
    "duration": 18,
    "start_time": "2023-04-27T11:51:20.694Z"
   },
   {
    "duration": 3,
    "start_time": "2023-04-27T11:51:28.623Z"
   },
   {
    "duration": 8,
    "start_time": "2023-04-27T11:51:37.932Z"
   },
   {
    "duration": 7,
    "start_time": "2023-04-27T11:51:42.151Z"
   },
   {
    "duration": 379,
    "start_time": "2023-04-27T11:53:38.957Z"
   },
   {
    "duration": 362,
    "start_time": "2023-04-27T11:53:47.268Z"
   },
   {
    "duration": 321,
    "start_time": "2023-04-27T11:53:59.237Z"
   },
   {
    "duration": 5,
    "start_time": "2023-04-27T11:57:21.935Z"
   },
   {
    "duration": 5,
    "start_time": "2023-04-27T11:57:34.911Z"
   },
   {
    "duration": 1298,
    "start_time": "2023-04-27T12:16:50.303Z"
   },
   {
    "duration": 85,
    "start_time": "2023-04-27T12:16:51.603Z"
   },
   {
    "duration": 32,
    "start_time": "2023-04-27T12:16:51.689Z"
   },
   {
    "duration": 4,
    "start_time": "2023-04-27T12:16:51.722Z"
   },
   {
    "duration": 32,
    "start_time": "2023-04-27T12:16:51.728Z"
   },
   {
    "duration": 14,
    "start_time": "2023-04-27T12:16:51.762Z"
   },
   {
    "duration": 163,
    "start_time": "2023-04-27T12:16:51.778Z"
   },
   {
    "duration": 27,
    "start_time": "2023-04-27T12:16:51.944Z"
   },
   {
    "duration": 23,
    "start_time": "2023-04-27T12:16:51.973Z"
   },
   {
    "duration": 14,
    "start_time": "2023-04-27T12:16:51.998Z"
   },
   {
    "duration": 11,
    "start_time": "2023-04-27T12:16:52.014Z"
   },
   {
    "duration": 19,
    "start_time": "2023-04-27T12:16:52.028Z"
   },
   {
    "duration": 11,
    "start_time": "2023-04-27T12:16:52.049Z"
   },
   {
    "duration": 7,
    "start_time": "2023-04-27T12:16:52.094Z"
   },
   {
    "duration": 30,
    "start_time": "2023-04-27T12:16:52.103Z"
   },
   {
    "duration": 19,
    "start_time": "2023-04-27T12:16:52.135Z"
   },
   {
    "duration": 18,
    "start_time": "2023-04-27T12:16:52.157Z"
   },
   {
    "duration": 300,
    "start_time": "2023-04-27T12:16:52.178Z"
   },
   {
    "duration": 290,
    "start_time": "2023-04-27T12:16:52.479Z"
   },
   {
    "duration": 229,
    "start_time": "2023-04-27T12:16:52.771Z"
   },
   {
    "duration": 352,
    "start_time": "2023-04-27T12:16:53.002Z"
   },
   {
    "duration": 9,
    "start_time": "2023-04-27T12:16:53.356Z"
   },
   {
    "duration": 239,
    "start_time": "2023-04-27T12:16:53.366Z"
   },
   {
    "duration": 313,
    "start_time": "2023-04-27T12:16:53.606Z"
   },
   {
    "duration": 142,
    "start_time": "2023-04-27T12:16:53.922Z"
   },
   {
    "duration": 5,
    "start_time": "2023-04-27T12:16:54.066Z"
   },
   {
    "duration": 170,
    "start_time": "2023-04-27T12:16:54.073Z"
   },
   {
    "duration": 174,
    "start_time": "2023-04-27T12:16:54.245Z"
   },
   {
    "duration": 5,
    "start_time": "2023-04-27T12:16:54.421Z"
   },
   {
    "duration": 99,
    "start_time": "2023-04-27T12:16:54.428Z"
   },
   {
    "duration": 7,
    "start_time": "2023-04-27T12:16:54.529Z"
   },
   {
    "duration": 41,
    "start_time": "2023-04-27T12:16:54.538Z"
   },
   {
    "duration": 4,
    "start_time": "2023-04-27T12:16:54.581Z"
   },
   {
    "duration": 27,
    "start_time": "2023-04-27T12:16:54.586Z"
   },
   {
    "duration": 27,
    "start_time": "2023-04-27T12:16:54.615Z"
   },
   {
    "duration": 24,
    "start_time": "2023-04-27T12:16:54.644Z"
   },
   {
    "duration": 32,
    "start_time": "2023-04-27T12:16:54.670Z"
   },
   {
    "duration": 17,
    "start_time": "2023-04-27T12:16:54.704Z"
   },
   {
    "duration": 21,
    "start_time": "2023-04-27T12:16:54.723Z"
   },
   {
    "duration": 8,
    "start_time": "2023-04-27T12:16:54.745Z"
   },
   {
    "duration": 26,
    "start_time": "2023-04-27T12:16:54.756Z"
   },
   {
    "duration": 14,
    "start_time": "2023-04-27T12:16:54.783Z"
   },
   {
    "duration": 9,
    "start_time": "2023-04-27T12:37:36.177Z"
   },
   {
    "duration": 394,
    "start_time": "2023-04-27T12:39:05.591Z"
   },
   {
    "duration": 320,
    "start_time": "2023-04-27T12:39:20.839Z"
   },
   {
    "duration": 274,
    "start_time": "2023-04-27T12:39:42.906Z"
   },
   {
    "duration": 271,
    "start_time": "2023-04-27T12:39:54.004Z"
   },
   {
    "duration": 7,
    "start_time": "2023-04-27T12:44:27.536Z"
   },
   {
    "duration": 24,
    "start_time": "2023-04-27T12:44:49.423Z"
   },
   {
    "duration": 4,
    "start_time": "2023-04-27T12:45:14.682Z"
   },
   {
    "duration": 8,
    "start_time": "2023-04-27T12:45:21.932Z"
   },
   {
    "duration": 8,
    "start_time": "2023-04-27T12:45:46.384Z"
   },
   {
    "duration": 303,
    "start_time": "2023-04-27T12:46:44.506Z"
   },
   {
    "duration": 258,
    "start_time": "2023-04-27T12:47:06.206Z"
   },
   {
    "duration": 1162,
    "start_time": "2023-05-03T14:31:41.524Z"
   },
   {
    "duration": 55,
    "start_time": "2023-05-03T14:31:42.689Z"
   },
   {
    "duration": 35,
    "start_time": "2023-05-03T14:31:42.745Z"
   },
   {
    "duration": 2,
    "start_time": "2023-05-03T14:31:42.782Z"
   },
   {
    "duration": 29,
    "start_time": "2023-05-03T14:31:42.787Z"
   },
   {
    "duration": 12,
    "start_time": "2023-05-03T14:31:42.818Z"
   },
   {
    "duration": 149,
    "start_time": "2023-05-03T14:31:42.832Z"
   },
   {
    "duration": 27,
    "start_time": "2023-05-03T14:31:42.982Z"
   },
   {
    "duration": 17,
    "start_time": "2023-05-03T14:31:43.011Z"
   },
   {
    "duration": 11,
    "start_time": "2023-05-03T14:31:43.031Z"
   },
   {
    "duration": 11,
    "start_time": "2023-05-03T14:31:43.044Z"
   },
   {
    "duration": 12,
    "start_time": "2023-05-03T14:31:43.057Z"
   },
   {
    "duration": 15,
    "start_time": "2023-05-03T14:31:43.071Z"
   },
   {
    "duration": 7,
    "start_time": "2023-05-03T14:31:43.089Z"
   },
   {
    "duration": 7,
    "start_time": "2023-05-03T14:31:43.097Z"
   },
   {
    "duration": 8,
    "start_time": "2023-05-03T14:31:43.106Z"
   },
   {
    "duration": 40,
    "start_time": "2023-05-03T14:31:43.116Z"
   },
   {
    "duration": 308,
    "start_time": "2023-05-03T14:31:43.158Z"
   },
   {
    "duration": 316,
    "start_time": "2023-05-03T14:31:43.468Z"
   },
   {
    "duration": 239,
    "start_time": "2023-05-03T14:31:43.786Z"
   },
   {
    "duration": 350,
    "start_time": "2023-05-03T14:31:44.027Z"
   },
   {
    "duration": 11,
    "start_time": "2023-05-03T14:31:44.379Z"
   },
   {
    "duration": 258,
    "start_time": "2023-05-03T14:31:44.391Z"
   },
   {
    "duration": 361,
    "start_time": "2023-05-03T14:31:44.656Z"
   },
   {
    "duration": 158,
    "start_time": "2023-05-03T14:31:45.019Z"
   },
   {
    "duration": 6,
    "start_time": "2023-05-03T14:31:45.179Z"
   },
   {
    "duration": 186,
    "start_time": "2023-05-03T14:31:45.186Z"
   },
   {
    "duration": 184,
    "start_time": "2023-05-03T14:31:45.374Z"
   },
   {
    "duration": 6,
    "start_time": "2023-05-03T14:31:45.560Z"
   },
   {
    "duration": 108,
    "start_time": "2023-05-03T14:31:45.568Z"
   },
   {
    "duration": 14,
    "start_time": "2023-05-03T14:31:45.678Z"
   },
   {
    "duration": 5,
    "start_time": "2023-05-03T14:31:56.636Z"
   }
  ],
  "celltoolbar": "Tags",
  "kernelspec": {
   "display_name": "Python 3 (ipykernel)",
   "language": "python",
   "name": "python3"
  },
  "language_info": {
   "codemirror_mode": {
    "name": "ipython",
    "version": 3
   },
   "file_extension": ".py",
   "mimetype": "text/x-python",
   "name": "python",
   "nbconvert_exporter": "python",
   "pygments_lexer": "ipython3",
   "version": "3.10.9"
  },
  "toc": {
   "base_numbering": 1,
   "nav_menu": {},
   "number_sections": true,
   "sideBar": true,
   "skip_h1_title": true,
   "title_cell": "Table of Contents",
   "title_sidebar": "Contents",
   "toc_cell": false,
   "toc_position": {},
   "toc_section_display": true,
   "toc_window_display": true
  }
 },
 "nbformat": 4,
 "nbformat_minor": 2
}
